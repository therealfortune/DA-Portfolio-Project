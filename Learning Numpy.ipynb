{
    "metadata": {
        "kernelspec": {
            "name": "python3",
            "display_name": "Python 3 (ipykernel)",
            "language": "python"
        },
        "language_info": {
            "name": "python",
            "version": "3.8.10",
            "mimetype": "text/x-python",
            "codemirror_mode": {
                "name": "ipython",
                "version": 3
            },
            "pygments_lexer": "ipython3",
            "nbconvert_exporter": "python",
            "file_extension": ".py"
        }
    },
    "nbformat_minor": 2,
    "nbformat": 4,
    "cells": [
        {
            "cell_type": "code",
            "source": [
                "import numpy as np \r\n",
                "np.__version__"
            ],
            "metadata": {
                "azdata_cell_guid": "6b24f6af-d6d3-40c1-be17-2b41936c0763",
                "language": "python"
            },
            "outputs": [
                {
                    "output_type": "execute_result",
                    "execution_count": 245,
                    "data": {
                        "text/plain": "'1.22.2'"
                    },
                    "metadata": {}
                }
            ],
            "execution_count": 245
        },
        {
            "cell_type": "code",
            "source": [
                "np.arange(2,29,7)"
            ],
            "metadata": {
                "azdata_cell_guid": "a48c3bed-4a19-438e-a775-ba70bebada83",
                "language": "python"
            },
            "outputs": [
                {
                    "output_type": "execute_result",
                    "execution_count": 246,
                    "data": {
                        "text/plain": "array([ 2,  9, 16, 23])"
                    },
                    "metadata": {}
                }
            ],
            "execution_count": 246
        },
        {
            "cell_type": "code",
            "source": [
                "np.linspace(2,9,5)"
            ],
            "metadata": {
                "azdata_cell_guid": "a64b8d5e-b25c-4114-93ff-ac4ee350e805",
                "language": "python"
            },
            "outputs": [
                {
                    "output_type": "execute_result",
                    "execution_count": 247,
                    "data": {
                        "text/plain": "array([2.  , 3.75, 5.5 , 7.25, 9.  ])"
                    },
                    "metadata": {}
                }
            ],
            "execution_count": 247
        },
        {
            "cell_type": "code",
            "source": [
                "np.random.random((3,3))"
            ],
            "metadata": {
                "azdata_cell_guid": "080e8325-fbbf-49e6-bde9-e4f38295b2e3",
                "language": "python"
            },
            "outputs": [
                {
                    "output_type": "execute_result",
                    "execution_count": 248,
                    "data": {
                        "text/plain": "array([[0.57225191, 0.22308163, 0.95274901],\n       [0.44712538, 0.84640867, 0.69947928],\n       [0.29743695, 0.81379782, 0.39650574]])"
                    },
                    "metadata": {}
                }
            ],
            "execution_count": 248
        },
        {
            "cell_type": "code",
            "source": [
                "np.random.normal(0,1,(3,3))"
            ],
            "metadata": {
                "azdata_cell_guid": "e094952e-32a9-446c-a94a-26c2c25e3157",
                "language": "python"
            },
            "outputs": [
                {
                    "output_type": "execute_result",
                    "execution_count": 249,
                    "data": {
                        "text/plain": "array([[0.20827498, 0.97663904, 0.3563664 ],\n       [0.70657317, 0.01050002, 1.78587049],\n       [0.12691209, 0.40198936, 1.8831507 ]])"
                    },
                    "metadata": {}
                }
            ],
            "execution_count": 249
        },
        {
            "cell_type": "code",
            "source": [
                "np.random.randint(0,10,(3,3))"
            ],
            "metadata": {
                "azdata_cell_guid": "0f656cdc-67fd-424d-9f20-3d65a4415c81",
                "language": "python"
            },
            "outputs": [
                {
                    "output_type": "execute_result",
                    "execution_count": 250,
                    "data": {
                        "text/plain": "array([[9, 6, 5],\n       [7, 8, 8],\n       [9, 2, 8]])"
                    },
                    "metadata": {}
                }
            ],
            "execution_count": 250
        },
        {
            "cell_type": "markdown",
            "source": [
                "COIN TOSS 1,0"
            ],
            "metadata": {
                "language": "python",
                "azdata_cell_guid": "53862ad5-0f7b-40b0-80e8-4969ccb9f2f0"
            },
            "attachments": {}
        },
        {
            "cell_type": "code",
            "source": [
                "a = []\r\n",
                "for i in range(1,10):\r\n",
                "    b = np.random.random_integers(0,1)\r\n",
                "    a.append(b)\r\n",
                "    i = i+1\r\n",
                "print(a)"
            ],
            "metadata": {
                "azdata_cell_guid": "8f9be2f0-70ac-4ae5-ab95-919f2bd85eb4",
                "language": "python"
            },
            "outputs": [
                {
                    "output_type": "stream",
                    "name": "stdout",
                    "text": "[0, 1, 1, 0, 1, 1, 1, 1, 1]\n"
                },
                {
                    "output_type": "stream",
                    "name": "stderr",
                    "text": "C:\\Users\\Fortune\\AppData\\Local\\Temp\\ipykernel_21088\\2980037048.py:3: DeprecationWarning: This function is deprecated. Please call randint(0, 1 + 1) instead\n  b = np.random.random_integers(0,1)\n"
                }
            ],
            "execution_count": 251
        },
        {
            "cell_type": "code",
            "source": [
                "np.eye(3)"
            ],
            "metadata": {
                "azdata_cell_guid": "184da28c-deaf-432f-a556-143aa08ca932",
                "language": "python"
            },
            "outputs": [
                {
                    "output_type": "execute_result",
                    "execution_count": 252,
                    "data": {
                        "text/plain": "array([[1., 0., 0.],\n       [0., 1., 0.],\n       [0., 0., 1.]])"
                    },
                    "metadata": {}
                }
            ],
            "execution_count": 252
        },
        {
            "cell_type": "code",
            "source": [
                "np.empty(2)"
            ],
            "metadata": {
                "azdata_cell_guid": "85aa5afd-ceba-4871-b0ab-83e8be783c97",
                "language": "python"
            },
            "outputs": [
                {
                    "output_type": "execute_result",
                    "execution_count": 253,
                    "data": {
                        "text/plain": "array([ 4.70691117e-005, -3.88157074e+282])"
                    },
                    "metadata": {}
                }
            ],
            "execution_count": 253
        },
        {
            "cell_type": "code",
            "source": [
                "np.random.seed(0)\r\n",
                "\r\n",
                "x1 = np.random.randint(10, size=6)\r\n",
                "x2 = np.random.randint(10, size=(3,4))\r\n",
                "x3 = np.random.randint(10, size=(3,4,5))\r\n",
                ""
            ],
            "metadata": {
                "azdata_cell_guid": "ad709dfc-208a-4edc-acee-42329c163ca7",
                "language": "python"
            },
            "outputs": [],
            "execution_count": 254
        },
        {
            "cell_type": "code",
            "source": [
                "print('x3 ndim: ', x3.ndim)\r\n",
                "print('x3 shape: ', x3.shape)\r\n",
                "print('x3 size: ', x3.size)\r\n",
                "print(\"itemsize:\", x3.itemsize, \"bytes\")\r\n",
                "print(\"nbytes:\", x3.nbytes, \"bytes\")\r\n",
                "print(\"dtype:\", x3.dtype)"
            ],
            "metadata": {
                "azdata_cell_guid": "857c745d-1cff-4412-916a-0b89b2a791ec",
                "language": "python"
            },
            "outputs": [
                {
                    "output_type": "stream",
                    "name": "stdout",
                    "text": "x3 ndim:  3\nx3 shape:  (3, 4, 5)\nx3 size:  60\nitemsize: 4 bytes\nnbytes: 240 bytes\ndtype: int32\n"
                }
            ],
            "execution_count": 255
        },
        {
            "cell_type": "code",
            "source": [
                "x1[0]"
            ],
            "metadata": {
                "azdata_cell_guid": "0cec2611-7218-4159-9e36-4278e6b0a642",
                "language": "python"
            },
            "outputs": [
                {
                    "output_type": "execute_result",
                    "execution_count": 256,
                    "data": {
                        "text/plain": "5"
                    },
                    "metadata": {}
                }
            ],
            "execution_count": 256
        },
        {
            "cell_type": "code",
            "source": [
                "x2"
            ],
            "metadata": {
                "azdata_cell_guid": "b3c0abf2-96de-45a8-a5f7-a506245ce55f",
                "language": "python"
            },
            "outputs": [
                {
                    "output_type": "execute_result",
                    "execution_count": 257,
                    "data": {
                        "text/plain": "array([[3, 5, 2, 4],\n       [7, 6, 8, 8],\n       [1, 6, 7, 7]])"
                    },
                    "metadata": {}
                }
            ],
            "execution_count": 257
        },
        {
            "cell_type": "code",
            "source": [
                "x2[1,2]"
            ],
            "metadata": {
                "azdata_cell_guid": "fb70d655-2fa3-4340-8ca8-0c2007663af8",
                "language": "python"
            },
            "outputs": [
                {
                    "output_type": "execute_result",
                    "execution_count": 258,
                    "data": {
                        "text/plain": "8"
                    },
                    "metadata": {}
                }
            ],
            "execution_count": 258
        },
        {
            "cell_type": "code",
            "source": [
                "x2[0,-1]"
            ],
            "metadata": {
                "azdata_cell_guid": "2e49a4c8-59f8-4021-b54b-f1b725bbdddd",
                "language": "python"
            },
            "outputs": [
                {
                    "output_type": "execute_result",
                    "execution_count": 259,
                    "data": {
                        "text/plain": "4"
                    },
                    "metadata": {}
                }
            ],
            "execution_count": 259
        },
        {
            "cell_type": "code",
            "source": [
                "x2[-1,-1]"
            ],
            "metadata": {
                "azdata_cell_guid": "3cd6e401-c388-4208-8506-a0d736f0fec6",
                "language": "python"
            },
            "outputs": [
                {
                    "output_type": "execute_result",
                    "execution_count": 260,
                    "data": {
                        "text/plain": "7"
                    },
                    "metadata": {}
                }
            ],
            "execution_count": 260
        },
        {
            "cell_type": "code",
            "source": [
                "x1[0] = 3.14159"
            ],
            "metadata": {
                "azdata_cell_guid": "ce3d4477-a091-4569-a10d-187a23e10175",
                "language": "python"
            },
            "outputs": [],
            "execution_count": 261
        },
        {
            "cell_type": "code",
            "source": [
                "x1"
            ],
            "metadata": {
                "azdata_cell_guid": "58d59d52-13c2-4628-8bd6-ad43f0b25ee1",
                "language": "python"
            },
            "outputs": [
                {
                    "output_type": "execute_result",
                    "execution_count": 262,
                    "data": {
                        "text/plain": "array([3, 0, 3, 3, 7, 9])"
                    },
                    "metadata": {}
                }
            ],
            "execution_count": 262
        },
        {
            "cell_type": "code",
            "source": [
                "x = np.arange(10)\r\n",
                "x"
            ],
            "metadata": {
                "azdata_cell_guid": "61542729-279f-46e6-8be1-dab9b0779017",
                "language": "python"
            },
            "outputs": [
                {
                    "output_type": "execute_result",
                    "execution_count": 263,
                    "data": {
                        "text/plain": "array([0, 1, 2, 3, 4, 5, 6, 7, 8, 9])"
                    },
                    "metadata": {}
                }
            ],
            "execution_count": 263
        },
        {
            "cell_type": "code",
            "source": [
                "x[:5]"
            ],
            "metadata": {
                "azdata_cell_guid": "ba6f2467-160e-4e34-98ab-30fcc266d2ff",
                "language": "python"
            },
            "outputs": [
                {
                    "output_type": "execute_result",
                    "execution_count": 264,
                    "data": {
                        "text/plain": "array([0, 1, 2, 3, 4])"
                    },
                    "metadata": {}
                }
            ],
            "execution_count": 264
        },
        {
            "cell_type": "code",
            "source": [
                "x2"
            ],
            "metadata": {
                "azdata_cell_guid": "ccddabd6-775a-4d55-b82c-08f030d00917",
                "language": "python"
            },
            "outputs": [
                {
                    "output_type": "execute_result",
                    "execution_count": 265,
                    "data": {
                        "text/plain": "array([[3, 5, 2, 4],\n       [7, 6, 8, 8],\n       [1, 6, 7, 7]])"
                    },
                    "metadata": {}
                }
            ],
            "execution_count": 265
        },
        {
            "cell_type": "code",
            "source": [
                "x2[:2,:2]"
            ],
            "metadata": {
                "azdata_cell_guid": "02a933df-9bfa-41f5-a666-aec5e6689967",
                "language": "python"
            },
            "outputs": [
                {
                    "output_type": "execute_result",
                    "execution_count": 266,
                    "data": {
                        "text/plain": "array([[3, 5],\n       [7, 6]])"
                    },
                    "metadata": {}
                }
            ],
            "execution_count": 266
        },
        {
            "cell_type": "code",
            "source": [
                "x2[:3, ::3]"
            ],
            "metadata": {
                "azdata_cell_guid": "46269135-f145-4aee-9a88-a650b4fae98a",
                "language": "python"
            },
            "outputs": [
                {
                    "output_type": "execute_result",
                    "execution_count": 267,
                    "data": {
                        "text/plain": "array([[3, 4],\n       [7, 8],\n       [1, 7]])"
                    },
                    "metadata": {}
                }
            ],
            "execution_count": 267
        },
        {
            "cell_type": "code",
            "source": [
                "x2[::-1, ::-1]"
            ],
            "metadata": {
                "azdata_cell_guid": "be4b7448-5852-446f-b39b-1b5642fb9576",
                "language": "python"
            },
            "outputs": [
                {
                    "output_type": "execute_result",
                    "execution_count": 268,
                    "data": {
                        "text/plain": "array([[7, 7, 6, 1],\n       [8, 8, 6, 7],\n       [4, 2, 5, 3]])"
                    },
                    "metadata": {}
                }
            ],
            "execution_count": 268
        },
        {
            "cell_type": "code",
            "source": [
                "x2[:,0]"
            ],
            "metadata": {
                "azdata_cell_guid": "8c8864bd-a086-4303-8739-9945a4342602",
                "language": "python"
            },
            "outputs": [
                {
                    "output_type": "execute_result",
                    "execution_count": 269,
                    "data": {
                        "text/plain": "array([3, 7, 1])"
                    },
                    "metadata": {}
                }
            ],
            "execution_count": 269
        },
        {
            "cell_type": "code",
            "source": [
                "x"
            ],
            "metadata": {
                "azdata_cell_guid": "29ae5609-5496-4f11-aed9-6c7275e44204",
                "language": "python"
            },
            "outputs": [
                {
                    "output_type": "execute_result",
                    "execution_count": 270,
                    "data": {
                        "text/plain": "array([0, 1, 2, 3, 4, 5, 6, 7, 8, 9])"
                    },
                    "metadata": {}
                }
            ],
            "execution_count": 270
        },
        {
            "cell_type": "code",
            "source": [
                "x.reshape((5,2))"
            ],
            "metadata": {
                "azdata_cell_guid": "56591c75-89ee-4efa-b4c6-9ad19a4c2af3",
                "language": "python"
            },
            "outputs": [
                {
                    "output_type": "execute_result",
                    "execution_count": 271,
                    "data": {
                        "text/plain": "array([[0, 1],\n       [2, 3],\n       [4, 5],\n       [6, 7],\n       [8, 9]])"
                    },
                    "metadata": {}
                }
            ],
            "execution_count": 271
        },
        {
            "cell_type": "code",
            "source": [
                "x = np.array([1,2,3])\r\n",
                "y = np.array([3,2,1])"
            ],
            "metadata": {
                "azdata_cell_guid": "a037f8f1-b88e-42f8-a2b8-386d60c7cb22",
                "language": "python"
            },
            "outputs": [],
            "execution_count": 272
        },
        {
            "cell_type": "code",
            "source": [
                "np.concatenate([x,y])"
            ],
            "metadata": {
                "azdata_cell_guid": "8aaddd93-d7c0-4e73-b93b-4064d4823435",
                "language": "python"
            },
            "outputs": [
                {
                    "output_type": "execute_result",
                    "execution_count": 273,
                    "data": {
                        "text/plain": "array([1, 2, 3, 3, 2, 1])"
                    },
                    "metadata": {}
                }
            ],
            "execution_count": 273
        },
        {
            "cell_type": "code",
            "source": [
                "z = [99,4]\r\n",
                "np.concatenate(([x,y,z]))"
            ],
            "metadata": {
                "azdata_cell_guid": "b6b4ed26-d1d1-4709-9756-ce8d0e5c16ae",
                "language": "python"
            },
            "outputs": [
                {
                    "output_type": "execute_result",
                    "execution_count": 274,
                    "data": {
                        "text/plain": "array([ 1,  2,  3,  3,  2,  1, 99,  4])"
                    },
                    "metadata": {}
                }
            ],
            "execution_count": 274
        },
        {
            "cell_type": "code",
            "source": [
                "grid = np.array([[1,2,3],\r\n",
                "                [4,5,6]])\r\n",
                "grid.shape"
            ],
            "metadata": {
                "azdata_cell_guid": "28b84810-0d92-4584-b958-beeef3a5be40",
                "language": "python"
            },
            "outputs": [
                {
                    "output_type": "execute_result",
                    "execution_count": 275,
                    "data": {
                        "text/plain": "(2, 3)"
                    },
                    "metadata": {}
                }
            ],
            "execution_count": 275
        },
        {
            "cell_type": "code",
            "source": [
                "p = np.concatenate([grid, grid])\r\n",
                "print(p)\r\n",
                "print(p.shape)"
            ],
            "metadata": {
                "azdata_cell_guid": "314b5586-df67-44dd-a0d6-42d068503e40",
                "language": "python"
            },
            "outputs": [
                {
                    "output_type": "stream",
                    "name": "stdout",
                    "text": "[[1 2 3]\n [4 5 6]\n [1 2 3]\n [4 5 6]]\n(4, 3)\n"
                }
            ],
            "execution_count": 276
        },
        {
            "cell_type": "code",
            "source": [
                "p = np.concatenate([grid, grid], axis=1)\r\n",
                "print(p)\r\n",
                "print(p.shape)"
            ],
            "metadata": {
                "azdata_cell_guid": "5c02d596-a307-4949-abf4-f2dece649107",
                "language": "python"
            },
            "outputs": [
                {
                    "output_type": "stream",
                    "name": "stdout",
                    "text": "[[1 2 3 1 2 3]\n [4 5 6 4 5 6]]\n(2, 6)\n"
                }
            ],
            "execution_count": 277
        },
        {
            "cell_type": "code",
            "source": [
                "np.vstack([x,grid])"
            ],
            "metadata": {
                "azdata_cell_guid": "84b5b6e4-8756-4d6d-b15d-73ced70ca1b3",
                "language": "python"
            },
            "outputs": [
                {
                    "output_type": "execute_result",
                    "execution_count": 278,
                    "data": {
                        "text/plain": "array([[1, 2, 3],\n       [1, 2, 3],\n       [4, 5, 6]])"
                    },
                    "metadata": {}
                }
            ],
            "execution_count": 278
        },
        {
            "cell_type": "code",
            "source": [
                "y = np.array([[99], \r\n",
                "                [99]])\r\n",
                "\r\n",
                "y"
            ],
            "metadata": {
                "azdata_cell_guid": "21b772fd-576d-45bb-bec4-2f9d741dc0a4",
                "language": "python"
            },
            "outputs": [
                {
                    "output_type": "execute_result",
                    "execution_count": 279,
                    "data": {
                        "text/plain": "array([[99],\n       [99]])"
                    },
                    "metadata": {}
                }
            ],
            "execution_count": 279
        },
        {
            "cell_type": "code",
            "source": [
                "x = np.arange(1,10)\r\n",
                "x"
            ],
            "metadata": {
                "azdata_cell_guid": "f83f5fb0-c699-456d-a76a-44a8a033b83b",
                "language": "python"
            },
            "outputs": [
                {
                    "output_type": "execute_result",
                    "execution_count": 280,
                    "data": {
                        "text/plain": "array([1, 2, 3, 4, 5, 6, 7, 8, 9])"
                    },
                    "metadata": {}
                }
            ],
            "execution_count": 280
        },
        {
            "cell_type": "code",
            "source": [
                "x1,x2,x3 = np.split(x,[2,6])"
            ],
            "metadata": {
                "azdata_cell_guid": "9b385062-9d17-4111-b9c8-a35169383595",
                "language": "python"
            },
            "outputs": [],
            "execution_count": 281
        },
        {
            "cell_type": "code",
            "source": [
                "print(x1,x2,x3)"
            ],
            "metadata": {
                "azdata_cell_guid": "c7bd2d15-f3ef-4365-bdd3-06785213e456",
                "language": "python"
            },
            "outputs": [
                {
                    "output_type": "stream",
                    "name": "stdout",
                    "text": "[1 2] [3 4 5 6] [7 8 9]\n"
                }
            ],
            "execution_count": 282
        },
        {
            "cell_type": "code",
            "source": [
                "grid = np.arange(16).reshape((4,4))\r\n",
                "grid"
            ],
            "metadata": {
                "azdata_cell_guid": "f61f1586-a08d-4f62-8eeb-6279e6f7e392",
                "language": "python"
            },
            "outputs": [
                {
                    "output_type": "execute_result",
                    "execution_count": 283,
                    "data": {
                        "text/plain": "array([[ 0,  1,  2,  3],\n       [ 4,  5,  6,  7],\n       [ 8,  9, 10, 11],\n       [12, 13, 14, 15]])"
                    },
                    "metadata": {}
                }
            ],
            "execution_count": 283
        },
        {
            "cell_type": "code",
            "source": [
                "upper, lower = np.vsplit(grid,[2])\r\n",
                ""
            ],
            "metadata": {
                "azdata_cell_guid": "2efb0d03-9aef-462d-b04a-c23bf862fb5c",
                "language": "python"
            },
            "outputs": [],
            "execution_count": 284
        },
        {
            "cell_type": "code",
            "source": [
                "print(upper, lower)"
            ],
            "metadata": {
                "azdata_cell_guid": "8276396f-b8ea-4523-9698-77d063915a6f",
                "language": "python"
            },
            "outputs": [
                {
                    "output_type": "stream",
                    "name": "stdout",
                    "text": "[[0 1 2 3]\n [4 5 6 7]] [[ 8  9 10 11]\n [12 13 14 15]]\n"
                }
            ],
            "execution_count": 285
        },
        {
            "cell_type": "code",
            "source": [
                "left, right = np.hsplit(grid,[2])\r\n",
                "print(left)\r\n",
                "print(right)"
            ],
            "metadata": {
                "azdata_cell_guid": "5e8e5891-43ac-491a-bfd0-7b71467f7af3",
                "language": "python"
            },
            "outputs": [
                {
                    "output_type": "stream",
                    "name": "stdout",
                    "text": "[[ 0  1]\n [ 4  5]\n [ 8  9]\n [12 13]]\n[[ 2  3]\n [ 6  7]\n [10 11]\n [14 15]]\n"
                }
            ],
            "execution_count": 286
        },
        {
            "cell_type": "code",
            "source": [
                "np.linspace(0,8,6).reshape(2,3)"
            ],
            "metadata": {
                "azdata_cell_guid": "c7f67f72-e3d9-44dd-9fc0-172b8eb7cc1c",
                "language": "python"
            },
            "outputs": [
                {
                    "output_type": "execute_result",
                    "execution_count": 287,
                    "data": {
                        "text/plain": "array([[0. , 1.6, 3.2],\n       [4.8, 6.4, 8. ]])"
                    },
                    "metadata": {}
                }
            ],
            "execution_count": 287
        },
        {
            "cell_type": "code",
            "source": [
                "np.random.randint(0,10,(8,8))"
            ],
            "metadata": {
                "azdata_cell_guid": "1c56439a-822b-4524-918a-2bd076676c34",
                "language": "python"
            },
            "outputs": [
                {
                    "output_type": "execute_result",
                    "execution_count": 288,
                    "data": {
                        "text/plain": "array([[4, 3, 4, 4, 8, 4, 3, 7],\n       [5, 5, 0, 1, 5, 9, 3, 0],\n       [5, 0, 1, 2, 4, 2, 0, 3],\n       [2, 0, 7, 5, 9, 0, 2, 7],\n       [2, 9, 2, 3, 3, 2, 3, 4],\n       [1, 2, 9, 1, 4, 6, 8, 2],\n       [3, 0, 0, 6, 0, 6, 3, 3],\n       [8, 8, 8, 2, 3, 2, 0, 8]])"
                    },
                    "metadata": {}
                }
            ],
            "execution_count": 288
        },
        {
            "cell_type": "code",
            "source": [
                "x = np.arange(4)\r\n",
                "print(x)\r\n",
                "print(x+1)\r\n",
                "print(x+2)\r\n",
                "print(x/2)\r\n",
                "print(x//2)"
            ],
            "metadata": {
                "azdata_cell_guid": "b8392295-03c7-4980-af4e-289cef8418a4",
                "language": "python"
            },
            "outputs": [
                {
                    "output_type": "stream",
                    "name": "stdout",
                    "text": "[0 1 2 3]\n[1 2 3 4]\n[2 3 4 5]\n[0.  0.5 1.  1.5]\n[0 0 1 1]\n"
                }
            ],
            "execution_count": 289
        },
        {
            "cell_type": "code",
            "source": [
                "print(np.add(x,1))"
            ],
            "metadata": {
                "azdata_cell_guid": "153f6657-e938-436b-98a4-ec59efcd4167",
                "language": "python",
                "tags": []
            },
            "outputs": [
                {
                    "output_type": "stream",
                    "name": "stdout",
                    "text": "[1 2 3 4]\n"
                }
            ],
            "execution_count": 290
        },
        {
            "cell_type": "code",
            "source": [
                "x = np.random.randint(-5,3,(1,5))"
            ],
            "metadata": {
                "azdata_cell_guid": "2b3f5be2-6d6a-4292-bd66-f63eb749483f",
                "language": "python"
            },
            "outputs": [],
            "execution_count": 292
        },
        {
            "cell_type": "code",
            "source": [
                "np.absolute(x)"
            ],
            "metadata": {
                "azdata_cell_guid": "63eb4f5d-2fa7-413f-968b-da39869fd8b9",
                "language": "python"
            },
            "outputs": [
                {
                    "output_type": "execute_result",
                    "execution_count": 293,
                    "data": {
                        "text/plain": "array([[3, 5, 1, 2, 1]])"
                    },
                    "metadata": {}
                }
            ],
            "execution_count": 293
        },
        {
            "cell_type": "code",
            "source": [
                "np.abs(x)"
            ],
            "metadata": {
                "azdata_cell_guid": "6d6fae23-da6d-416d-9126-bf115541de38",
                "language": "python"
            },
            "outputs": [
                {
                    "output_type": "execute_result",
                    "execution_count": 294,
                    "data": {
                        "text/plain": "array([[3, 5, 1, 2, 1]])"
                    },
                    "metadata": {}
                }
            ],
            "execution_count": 294
        },
        {
            "cell_type": "code",
            "source": [
                "x = np.array([3-4j, 4-3j, 3 + 4j])"
            ],
            "metadata": {
                "azdata_cell_guid": "23fdec77-f8b6-46ec-be22-718a99135a82",
                "language": "python"
            },
            "outputs": [],
            "execution_count": 295
        },
        {
            "cell_type": "code",
            "source": [
                "x "
            ],
            "metadata": {
                "azdata_cell_guid": "edba01b5-6832-445c-936c-8032a4657aa3",
                "language": "python"
            },
            "outputs": [
                {
                    "output_type": "execute_result",
                    "execution_count": 296,
                    "data": {
                        "text/plain": "array([3.-4.j, 4.-3.j, 3.+4.j])"
                    },
                    "metadata": {}
                }
            ],
            "execution_count": 296
        },
        {
            "cell_type": "code",
            "source": [
                "np.absolute(x)"
            ],
            "metadata": {
                "azdata_cell_guid": "7e1cb054-8a7f-46dd-ac25-9c777bcc5cad",
                "language": "python"
            },
            "outputs": [
                {
                    "output_type": "execute_result",
                    "execution_count": 298,
                    "data": {
                        "text/plain": "array([5., 5., 5.])"
                    },
                    "metadata": {}
                }
            ],
            "execution_count": 298
        },
        {
            "cell_type": "code",
            "source": [
                "theta = np.linspace(0, np.pi, 3)\r\n",
                "\r\n",
                "print('theta      = ', theta)\r\n",
                "print('sin(theta) = ', np.sin(theta))\r\n",
                "print(\"cos(theta) = \", np.cos(theta))\r\n",
                "print(\"arctan(theta) = \", np.arctan(theta))"
            ],
            "metadata": {
                "azdata_cell_guid": "e0c9f361-fc0c-4c21-86da-0b3820b3b8e6",
                "language": "python"
            },
            "outputs": [
                {
                    "output_type": "stream",
                    "name": "stdout",
                    "text": "theta      =  [0.         1.57079633 3.14159265]\nsin(theta) =  [0.0000000e+00 1.0000000e+00 1.2246468e-16]\ncos(theta) =  [ 1.000000e+00  6.123234e-17 -1.000000e+00]\narctan(theta) =  [0.         1.00388482 1.26262726]\n"
                }
            ],
            "execution_count": 306
        },
        {
            "cell_type": "code",
            "source": [
                "from scipy import special"
            ],
            "metadata": {
                "azdata_cell_guid": "3ad4489c-d1b2-4663-b095-5743f938068c",
                "language": "python"
            },
            "outputs": [],
            "execution_count": 307
        },
        {
            "cell_type": "code",
            "source": [
                "x = [1,5,10]\r\n",
                "print(special.gamma(x))\r\n",
                "print(special.gammaln(x))\r\n",
                "print(special.beta(x,2))"
            ],
            "metadata": {
                "azdata_cell_guid": "2d661a5f-4b0b-455a-80c8-8fa1c74a3403",
                "language": "python"
            },
            "outputs": [
                {
                    "output_type": "stream",
                    "name": "stdout",
                    "text": "[1.0000e+00 2.4000e+01 3.6288e+05]\n[ 0.          3.17805383 12.80182748]\n[0.5        0.03333333 0.00909091]\n"
                }
            ],
            "execution_count": 310
        },
        {
            "cell_type": "code",
            "source": [
                "y = np.empty(5)\r\n",
                "x = np.arange(5)\r\n",
                "np.multiply(x,10, out= y)"
            ],
            "metadata": {
                "azdata_cell_guid": "fc0d8891-ff1c-4f3f-97f8-8500dd1489e5",
                "language": "python"
            },
            "outputs": [
                {
                    "output_type": "execute_result",
                    "execution_count": 318,
                    "data": {
                        "text/plain": "array([ 0., 10., 20., 30., 40.])"
                    },
                    "metadata": {}
                }
            ],
            "execution_count": 318
        },
        {
            "cell_type": "code",
            "source": [
                "a = np.arange(1,6)\r\n",
                "print(x)\r\n",
                "print(np.add.reduce(a))\r\n",
                "print(np.multiply.reduce(a))\r\n",
                "print(np.add.accumulate(x))\r\n",
                "print(np.multiply.accumulate(x))"
            ],
            "metadata": {
                "azdata_cell_guid": "a7857adb-c841-40dd-888d-acdefedcad49",
                "language": "python"
            },
            "outputs": [
                {
                    "output_type": "stream",
                    "name": "stdout",
                    "text": "[0 1 2 3 4]\n15\n120\n[ 0  1  3  6 10]\n[0 0 0 0 0]\n"
                }
            ],
            "execution_count": 324
        },
        {
            "cell_type": "code",
            "source": [
                "L = np.random.random(100)\r\n",
                "sum(L)"
            ],
            "metadata": {
                "azdata_cell_guid": "5a95c11b-9435-4f2a-bc54-6c239847e924",
                "language": "python"
            },
            "outputs": [
                {
                    "output_type": "execute_result",
                    "execution_count": 335,
                    "data": {
                        "text/plain": "50.47478376058294"
                    },
                    "metadata": {}
                }
            ],
            "execution_count": 335
        },
        {
            "cell_type": "code",
            "source": [
                "bigL = np.random.rand(10000000)\r\n",
                "%timeit sum(bigL)"
            ],
            "metadata": {
                "azdata_cell_guid": "ce609f95-45b8-4c46-a542-9dfdaa6ca76d",
                "language": "python"
            },
            "outputs": [
                {
                    "output_type": "stream",
                    "name": "stdout",
                    "text": "1.74 s ± 221 ms per loop (mean ± std. dev. of 7 runs, 1 loop each)\n"
                }
            ],
            "execution_count": 342
        },
        {
            "cell_type": "code",
            "source": [
                "bigL = np.random.rand(100000000)\r\n",
                "%timeit np.sum(bigL)"
            ],
            "metadata": {
                "azdata_cell_guid": "9e7ff3bc-57f5-45a1-b72d-a1579d67264a",
                "language": "python"
            },
            "outputs": [
                {
                    "output_type": "stream",
                    "name": "stdout",
                    "text": "172 ms ± 10.4 ms per loop (mean ± std. dev. of 7 runs, 10 loops each)\n"
                }
            ],
            "execution_count": 343
        },
        {
            "cell_type": "code",
            "source": [
                "min(bigL), max(bigL)"
            ],
            "metadata": {
                "azdata_cell_guid": "8480f520-4b28-4ed9-a4d3-c4f5ff8ec2d4",
                "language": "python"
            },
            "outputs": [
                {
                    "output_type": "execute_result",
                    "execution_count": 346,
                    "data": {
                        "text/plain": "(5.935602787054961e-09, 0.9999999957602168)"
                    },
                    "metadata": {}
                }
            ],
            "execution_count": 346
        },
        {
            "cell_type": "code",
            "source": [
                "np.min(bigL), np.max(bigL)"
            ],
            "metadata": {
                "azdata_cell_guid": "02c4852e-54a4-47dc-b586-b67834eb6f19",
                "language": "python"
            },
            "outputs": [
                {
                    "output_type": "execute_result",
                    "execution_count": 348,
                    "data": {
                        "text/plain": "(5.935602787054961e-09, 0.9999999957602168)"
                    },
                    "metadata": {}
                }
            ],
            "execution_count": 348
        },
        {
            "cell_type": "markdown",
            "source": [
                "Numpy min,max,sum are way faster than python regular min,max,sum"
            ],
            "metadata": {
                "language": "python",
                "azdata_cell_guid": "317cd34c-b215-4fa1-95d3-39b288e2e682"
            },
            "attachments": {}
        },
        {
            "cell_type": "code",
            "source": [
                "bigL.max(), bigL.sum()  #Numpy shortcut"
            ],
            "metadata": {
                "azdata_cell_guid": "74250ff8-306a-4e42-bf9b-49456e74fa63",
                "language": "python"
            },
            "outputs": [
                {
                    "output_type": "execute_result",
                    "execution_count": 351,
                    "data": {
                        "text/plain": "(0.9999999957602168, 50006876.771580234)"
                    },
                    "metadata": {}
                }
            ],
            "execution_count": 351
        },
        {
            "cell_type": "code",
            "source": [
                "M = np.random.rand(3,4)\r\n",
                "M"
            ],
            "metadata": {
                "azdata_cell_guid": "3cd0791d-2950-4e74-ba7e-bf41262344c5",
                "language": "python"
            },
            "outputs": [
                {
                    "output_type": "execute_result",
                    "execution_count": 354,
                    "data": {
                        "text/plain": "array([[0.30493334, 0.23163624, 0.10696951, 0.22071155],\n       [0.96151281, 0.36573752, 0.13659648, 0.39288828],\n       [0.63253051, 0.74535944, 0.08945538, 0.79125307]])"
                    },
                    "metadata": {}
                }
            ],
            "execution_count": 354
        },
        {
            "cell_type": "code",
            "source": [
                "M.sum()"
            ],
            "metadata": {
                "azdata_cell_guid": "4c77baa4-7024-47a2-88cc-8309bb968d6a",
                "language": "python"
            },
            "outputs": [
                {
                    "output_type": "execute_result",
                    "execution_count": 355,
                    "data": {
                        "text/plain": "array([[0.82097016, 0.76255836, 0.50805658, 0.94794247],\n       [0.28712858, 0.4977299 , 0.69741656, 0.31278831],\n       [0.32095981, 0.49264183, 0.28808635, 0.41517413]])"
                    },
                    "metadata": {}
                }
            ],
            "execution_count": 355
        },
        {
            "cell_type": "code",
            "source": [
                "np.percentile(bigL,25), np.percentile(bigL,50)"
            ],
            "metadata": {
                "azdata_cell_guid": "bb595578-1b04-474a-bf8b-fe7b9b456f5e",
                "language": "python"
            },
            "outputs": [
                {
                    "output_type": "execute_result",
                    "execution_count": 358,
                    "data": {
                        "text/plain": "(0.2500410238113199, 0.5001090426443506)"
                    },
                    "metadata": {}
                }
            ],
            "execution_count": 358
        },
        {
            "cell_type": "code",
            "source": [
                "a = np.array([0,1,2])\r\n",
                "b = np.array([5,5,5])\r\n",
                "a + b"
            ],
            "metadata": {
                "azdata_cell_guid": "7ac10f43-0154-4c41-b5af-c8ec6b645943",
                "language": "python"
            },
            "outputs": [
                {
                    "output_type": "execute_result",
                    "execution_count": 359,
                    "data": {
                        "text/plain": "array([5, 6, 7])"
                    },
                    "metadata": {}
                }
            ],
            "execution_count": 359
        },
        {
            "cell_type": "code",
            "source": [
                "m = np.ones((3,3))\r\n",
                "m"
            ],
            "metadata": {
                "azdata_cell_guid": "3f623eed-f179-4c73-aace-68dc4a67a146",
                "language": "python"
            },
            "outputs": [
                {
                    "output_type": "execute_result",
                    "execution_count": 360,
                    "data": {
                        "text/plain": "array([[1., 1., 1.],\n       [1., 1., 1.],\n       [1., 1., 1.]])"
                    },
                    "metadata": {}
                }
            ],
            "execution_count": 360
        },
        {
            "cell_type": "code",
            "source": [
                "m+a"
            ],
            "metadata": {
                "azdata_cell_guid": "37592928-ab02-498a-9874-7b5e3579ee08",
                "language": "python"
            },
            "outputs": [
                {
                    "output_type": "execute_result",
                    "execution_count": 361,
                    "data": {
                        "text/plain": "array([[1., 2., 3.],\n       [1., 2., 3.],\n       [1., 2., 3.]])"
                    },
                    "metadata": {}
                }
            ],
            "execution_count": 361
        },
        {
            "cell_type": "code",
            "source": [
                "np.ones((3,2)) + np.ones((4,6))"
            ],
            "metadata": {
                "azdata_cell_guid": "0d00cef5-04f3-4a02-863f-36805138cc2e",
                "language": "python"
            },
            "outputs": [
                {
                    "output_type": "error",
                    "ename": "ValueError",
                    "evalue": "operands could not be broadcast together with shapes (3,2) (4,6) ",
                    "traceback": [
                        "\u001b[1;31m---------------------------------------------------------------------------\u001b[0m",
                        "\u001b[1;31mValueError\u001b[0m                                Traceback (most recent call last)",
                        "Input \u001b[1;32mIn [365]\u001b[0m, in \u001b[0;36m<cell line: 1>\u001b[1;34m()\u001b[0m\n\u001b[1;32m----> 1\u001b[0m np\u001b[38;5;241m.\u001b[39mones((\u001b[38;5;241m3\u001b[39m,\u001b[38;5;241m2\u001b[39m)) \u001b[38;5;241m+\u001b[39m np\u001b[38;5;241m.\u001b[39mones((\u001b[38;5;241m4\u001b[39m,\u001b[38;5;241m6\u001b[39m))\n",
                        "\u001b[1;31mValueError\u001b[0m: operands could not be broadcast together with shapes (3,2) (4,6) "
                    ]
                }
            ],
            "execution_count": 365
        },
        {
            "cell_type": "code",
            "source": [
                "np.ones((3,4)) + np.ones(1)"
            ],
            "metadata": {
                "azdata_cell_guid": "f5b3eb9b-7e80-4703-a834-9f1651da9fa1",
                "language": "python"
            },
            "outputs": [
                {
                    "output_type": "execute_result",
                    "execution_count": 366,
                    "data": {
                        "text/plain": "array([[2., 2., 2., 2.],\n       [2., 2., 2., 2.],\n       [2., 2., 2., 2.]])"
                    },
                    "metadata": {}
                }
            ],
            "execution_count": 366
        },
        {
            "cell_type": "code",
            "source": [
                "X = np.random.random((10,3))"
            ],
            "metadata": {
                "azdata_cell_guid": "36056f36-db6d-4b09-a304-926511415967",
                "language": "python"
            },
            "outputs": [],
            "execution_count": 367
        },
        {
            "cell_type": "code",
            "source": [
                "Xmean = X.mean(0)\r\n",
                "Xmean"
            ],
            "metadata": {
                "azdata_cell_guid": "7b35f7fd-89ef-486a-9ae2-d367a01a7602",
                "language": "python"
            },
            "outputs": [
                {
                    "output_type": "execute_result",
                    "execution_count": 368,
                    "data": {
                        "text/plain": "array([0.54608025, 0.6067391 , 0.59729905])"
                    },
                    "metadata": {}
                }
            ],
            "execution_count": 368
        },
        {
            "cell_type": "code",
            "source": [
                "X - Xmean"
            ],
            "metadata": {
                "azdata_cell_guid": "5194bad2-4cf2-4d37-b3cc-106864b2aa52",
                "language": "python"
            },
            "outputs": [
                {
                    "output_type": "execute_result",
                    "execution_count": 369,
                    "data": {
                        "text/plain": "array([[ 0.33569516,  0.34131462,  0.32333615],\n       [ 0.34987315,  0.12092075, -0.21252705],\n       [-0.09536534, -0.28446328, -0.05637639],\n       [ 0.45147091, -0.06598285, -0.17378996],\n       [ 0.2129984 ,  0.17977477,  0.05780813],\n       [-0.50273512,  0.12912355, -0.05208485],\n       [-0.47161315,  0.21797577,  0.2816076 ],\n       [ 0.10475428,  0.17853159,  0.26686533],\n       [-0.38876944, -0.38162706,  0.1393081 ],\n       [ 0.00369115, -0.43556786, -0.57414707]])"
                    },
                    "metadata": {}
                }
            ],
            "execution_count": 369
        },
        {
            "cell_type": "code",
            "source": [
                "np.count_nonzero( x < 0.5)"
            ],
            "metadata": {
                "azdata_cell_guid": "8baaf7b5-6f91-4fe1-b735-cd66ede38f7b",
                "language": "python"
            },
            "outputs": [
                {
                    "output_type": "execute_result",
                    "execution_count": 372,
                    "data": {
                        "text/plain": "1"
                    },
                    "metadata": {}
                }
            ],
            "execution_count": 372
        },
        {
            "cell_type": "code",
            "source": [
                "np.sum(X < 6, axis=1)"
            ],
            "metadata": {
                "azdata_cell_guid": "743f2cba-687d-4c1c-b05d-9ee3808b4b42",
                "language": "python"
            },
            "outputs": [
                {
                    "output_type": "execute_result",
                    "execution_count": 374,
                    "data": {
                        "text/plain": "array([3, 3, 3, 3, 3, 3, 3, 3, 3, 3])"
                    },
                    "metadata": {}
                }
            ],
            "execution_count": 374
        },
        {
            "cell_type": "code",
            "source": [
                "a = np.array([1,5,7,5,8])"
            ],
            "metadata": {
                "azdata_cell_guid": "2ec31342-40e0-4b33-b77d-8d4d600d2527",
                "language": "python"
            },
            "outputs": [],
            "execution_count": 375
        },
        {
            "cell_type": "code",
            "source": [
                "np.all(a == 9)"
            ],
            "metadata": {
                "azdata_cell_guid": "957642e8-b906-4bb8-8c8b-d7c24700fa88",
                "language": "python"
            },
            "outputs": [
                {
                    "output_type": "execute_result",
                    "execution_count": 378,
                    "data": {
                        "text/plain": "False"
                    },
                    "metadata": {}
                }
            ],
            "execution_count": 378
        },
        {
            "cell_type": "code",
            "source": [
                "summer = (np.arange(365) - 172 < 90) & (np.arange(365) - 172 > 0)\r\n",
                "summer"
            ],
            "metadata": {
                "azdata_cell_guid": "31830513-9e8e-4368-a767-f6dfc0f3683a",
                "language": "python"
            },
            "outputs": [
                {
                    "output_type": "execute_result",
                    "execution_count": 379,
                    "data": {
                        "text/plain": "array([False, False, False, False, False, False, False, False, False,\n       False, False, False, False, False, False, False, False, False,\n       False, False, False, False, False, False, False, False, False,\n       False, False, False, False, False, False, False, False, False,\n       False, False, False, False, False, False, False, False, False,\n       False, False, False, False, False, False, False, False, False,\n       False, False, False, False, False, False, False, False, False,\n       False, False, False, False, False, False, False, False, False,\n       False, False, False, False, False, False, False, False, False,\n       False, False, False, False, False, False, False, False, False,\n       False, False, False, False, False, False, False, False, False,\n       False, False, False, False, False, False, False, False, False,\n       False, False, False, False, False, False, False, False, False,\n       False, False, False, False, False, False, False, False, False,\n       False, False, False, False, False, False, False, False, False,\n       False, False, False, False, False, False, False, False, False,\n       False, False, False, False, False, False, False, False, False,\n       False, False, False, False, False, False, False, False, False,\n       False, False, False, False, False, False, False, False, False,\n       False, False,  True,  True,  True,  True,  True,  True,  True,\n        True,  True,  True,  True,  True,  True,  True,  True,  True,\n        True,  True,  True,  True,  True,  True,  True,  True,  True,\n        True,  True,  True,  True,  True,  True,  True,  True,  True,\n        True,  True,  True,  True,  True,  True,  True,  True,  True,\n        True,  True,  True,  True,  True,  True,  True,  True,  True,\n        True,  True,  True,  True,  True,  True,  True,  True,  True,\n        True,  True,  True,  True,  True,  True,  True,  True,  True,\n        True,  True,  True,  True,  True,  True,  True,  True,  True,\n        True,  True,  True,  True,  True,  True,  True,  True,  True,\n        True, False, False, False, False, False, False, False, False,\n       False, False, False, False, False, False, False, False, False,\n       False, False, False, False, False, False, False, False, False,\n       False, False, False, False, False, False, False, False, False,\n       False, False, False, False, False, False, False, False, False,\n       False, False, False, False, False, False, False, False, False,\n       False, False, False, False, False, False, False, False, False,\n       False, False, False, False, False, False, False, False, False,\n       False, False, False, False, False, False, False, False, False,\n       False, False, False, False, False, False, False, False, False,\n       False, False, False, False, False, False, False, False, False,\n       False, False, False, False, False])"
                    },
                    "metadata": {}
                }
            ],
            "execution_count": 379
        },
        {
            "cell_type": "code",
            "source": [
                "np.random.RandomState(40)"
            ],
            "metadata": {
                "azdata_cell_guid": "4152bdbf-fbc6-4c63-9c29-c100f0d0958a",
                "language": "python"
            },
            "outputs": [
                {
                    "output_type": "execute_result",
                    "execution_count": 381,
                    "data": {
                        "text/plain": "RandomState(MT19937) at 0x271FFCCC340"
                    },
                    "metadata": {}
                }
            ],
            "execution_count": 381
        },
        {
            "cell_type": "code",
            "source": [
                ""
            ],
            "metadata": {
                "azdata_cell_guid": "04706093-ff83-49a3-98cd-1e0ba6b074de",
                "language": "python"
            },
            "outputs": [],
            "execution_count": 385
        },
        {
            "cell_type": "code",
            "source": [
                ""
            ],
            "metadata": {
                "azdata_cell_guid": "b3289760-2776-4741-bcfe-30c9d67c3076",
                "language": "python"
            },
            "outputs": [],
            "execution_count": null
        },
        {
            "cell_type": "code",
            "source": [
                ""
            ],
            "metadata": {
                "azdata_cell_guid": "72fdc298-7b33-426c-a78d-98cb33210549",
                "language": "python"
            },
            "outputs": [],
            "execution_count": null
        },
        {
            "cell_type": "code",
            "source": [
                ""
            ],
            "metadata": {
                "azdata_cell_guid": "99a1e0b2-1833-4ce0-9448-c71e5f221f66",
                "language": "python"
            },
            "outputs": [],
            "execution_count": null
        },
        {
            "cell_type": "code",
            "source": [
                ""
            ],
            "metadata": {
                "azdata_cell_guid": "407265b4-6d38-40c9-abb6-ef939e44b8e7",
                "language": "python"
            },
            "outputs": [],
            "execution_count": null
        },
        {
            "cell_type": "code",
            "source": [
                ""
            ],
            "metadata": {
                "azdata_cell_guid": "48204fe7-89b0-4a18-a91c-4b4a647d444c",
                "language": "python"
            },
            "outputs": [],
            "execution_count": null
        },
        {
            "cell_type": "code",
            "source": [
                ""
            ],
            "metadata": {
                "azdata_cell_guid": "c3e1069b-8191-4c1e-a893-5350ca5aa3fc",
                "language": "python"
            },
            "outputs": [],
            "execution_count": null
        }
    ]
}