{
  "nbformat": 4,
  "nbformat_minor": 0,
  "metadata": {
    "colab": {
      "name": "JdExtraction.ipynb",
      "provenance": [],
      "authorship_tag": "ABX9TyNeO0bjeef5xHzL0vU98nSj",
      "include_colab_link": true
    },
    "kernelspec": {
      "name": "python3",
      "display_name": "Python 3"
    },
    "language_info": {
      "name": "python"
    }
  },
  "cells": [
    {
      "cell_type": "markdown",
      "metadata": {
        "id": "view-in-github",
        "colab_type": "text"
      },
      "source": [
        "<a href=\"https://colab.research.google.com/github/therealfortune/DA-Portfolio-Project/blob/master/JdExtraction.ipynb\" target=\"_parent\"><img src=\"https://colab.research.google.com/assets/colab-badge.svg\" alt=\"Open In Colab\"/></a>"
      ]
    },
    {
      "cell_type": "code",
      "execution_count": 4,
      "metadata": {
        "id": "_Hgs-MRpgBim"
      },
      "outputs": [],
      "source": [
        "import re "
      ]
    },
    {
      "cell_type": "code",
      "source": [
        "text = \"The man is in Spain\""
      ],
      "metadata": {
        "id": "7ZoM101bg-JW"
      },
      "execution_count": 27,
      "outputs": []
    },
    {
      "cell_type": "code",
      "source": [
        "x = re.findall(\"man is.*in\", text)\n",
        "x "
      ],
      "metadata": {
        "colab": {
          "base_uri": "https://localhost:8080/"
        },
        "id": "vsT81ZqChF0-",
        "outputId": "19e0a9f3-d1f0-4d82-c3fc-038bae0178aa"
      },
      "execution_count": 77,
      "outputs": [
        {
          "output_type": "execute_result",
          "data": {
            "text/plain": [
              "['man is in Spain']"
            ]
          },
          "metadata": {},
          "execution_count": 77
        }
      ]
    },
    {
      "cell_type": "code",
      "source": [
        "txt = \"The rain in Spain 28\"\n",
        "\n",
        "x = re.findall(\"[a-m]\", txt) # Return lowercase of  the characters within a-m\n",
        "y = re.findall(\"\\d\", txt) # Find all digit characters\n",
        "y1 = re.search(\"\\d\", txt) #Find the first digit character \n"
      ],
      "metadata": {
        "colab": {
          "base_uri": "https://localhost:8080/"
        },
        "id": "XRRCbljdhQ-H",
        "outputId": "d8adf81f-1551-42a2-bf30-fbcd100b0afb"
      },
      "execution_count": 62,
      "outputs": [
        {
          "output_type": "execute_result",
          "data": {
            "text/plain": [
              "<re.Match object; span=(18, 19), match='2'>"
            ]
          },
          "metadata": {},
          "execution_count": 62
        }
      ]
    },
    {
      "cell_type": "code",
      "source": [
        "txt = \"Intro : Hello Planet \\n Overview : Hello My name is Fortune\"\n",
        "\n",
        "x = re.findall(\"^Intro.*Overview\", txt)\n",
        "x\n",
        "\n",
        "if x:\n",
        "    y = re.findall(\"Intro\", txt)\n",
        "    print(y)\n",
        "else:\n",
        "    print(\"No match\")"
      ],
      "metadata": {
        "colab": {
          "base_uri": "https://localhost:8080/"
        },
        "id": "VzPzuJ0YhVpD",
        "outputId": "175a31ea-09ec-4309-d014-9489103cd78a"
      },
      "execution_count": 73,
      "outputs": [
        {
          "output_type": "stream",
          "name": "stdout",
          "text": [
            "No match\n"
          ]
        }
      ]
    },
    {
      "cell_type": "code",
      "source": [
        "txt = \"Intro : Hello Planet \\n Overview : Hello My name is Fortune\"\n",
        "\n",
        "x = re.findall(\"Intro.*\\n\", txt)\n",
        "x"
      ],
      "metadata": {
        "colab": {
          "base_uri": "https://localhost:8080/"
        },
        "id": "0K0EOzL74WcA",
        "outputId": "eafc232a-dbb5-4a7d-d1ca-113910715af2"
      },
      "execution_count": 79,
      "outputs": [
        {
          "output_type": "execute_result",
          "data": {
            "text/plain": [
              "['Intro : Hello Planet \\n']"
            ]
          },
          "metadata": {},
          "execution_count": 79
        }
      ]
    },
    {
      "cell_type": "code",
      "source": [
        "txt = \"Intro : Hello Planet \\n Overview : Hello My name is Fortune\"\n",
        "\n",
        "x = re.findall(\"Intro.*\\n\", txt)\n",
        "txt.strip(\"Overview\")"
      ],
      "metadata": {
        "colab": {
          "base_uri": "https://localhost:8080/",
          "height": 36
        },
        "id": "RyHYNtCI7RyD",
        "outputId": "1b89d844-bb4c-4d50-a26d-8883bcbd024a"
      },
      "execution_count": 92,
      "outputs": [
        {
          "output_type": "execute_result",
          "data": {
            "text/plain": [
              "'Intro : Hello Planet \\n Overview : Hello My name is Fortun'"
            ],
            "application/vnd.google.colaboratory.intrinsic+json": {
              "type": "string"
            }
          },
          "metadata": {},
          "execution_count": 92
        }
      ]
    },
    {
      "cell_type": "code",
      "source": [
        "txt = \"Intro : Hello Planet \\n Overview : Hello My name is Fortune\"\n",
        "\n",
        "x = re.findall(\"Intro.*\\n\", txt)\n",
        "x = \" \".join(map(str, x))\n",
        "x = x.rstrip(\"\\n\")\n",
        "print(x)"
      ],
      "metadata": {
        "colab": {
          "base_uri": "https://localhost:8080/"
        },
        "id": "XO4xDuIE8JTg",
        "outputId": "76516419-e4ac-432e-b6c5-7b0f362754c0"
      },
      "execution_count": 111,
      "outputs": [
        {
          "output_type": "stream",
          "name": "stdout",
          "text": [
            "Intro : Hello Planet \n"
          ]
        }
      ]
    },
    {
      "cell_type": "code",
      "source": [
        "jt = \"Company Name: 10hourlabs \\n Job Title: Senior React Native Developer\"\n",
        "\n",
        "x = re.findall(\"Company.*\\n\", jt)\n",
        "print(x)"
      ],
      "metadata": {
        "colab": {
          "base_uri": "https://localhost:8080/"
        },
        "id": "6H5Kdo86OjXH",
        "outputId": "5b70467b-d545-4e80-cdc1-ac3dc5d6087c"
      },
      "execution_count": 123,
      "outputs": [
        {
          "output_type": "stream",
          "name": "stdout",
          "text": [
            "['Company Name: 10hourlabs \\n']\n"
          ]
        }
      ]
    },
    {
      "cell_type": "code",
      "source": [
        "!pip install PyPDF2"
      ],
      "metadata": {
        "colab": {
          "base_uri": "https://localhost:8080/"
        },
        "id": "UkzWZAqXS3wK",
        "outputId": "75aafb73-10c8-4ea4-dca4-f7a1a62561ed"
      },
      "execution_count": 130,
      "outputs": [
        {
          "output_type": "stream",
          "name": "stdout",
          "text": [
            "Looking in indexes: https://pypi.org/simple, https://us-python.pkg.dev/colab-wheels/public/simple/\n",
            "Requirement already satisfied: PyPDF2 in /usr/local/lib/python3.7/dist-packages (2.5.0)\n",
            "Requirement already satisfied: typing-extensions in /usr/local/lib/python3.7/dist-packages (from PyPDF2) (4.1.1)\n"
          ]
        }
      ]
    },
    {
      "cell_type": "code",
      "source": [
        "import PyPDF2\n",
        "\n",
        "pdfFileObject = open(r\"/content/jd-sample.pdf\", 'rb')\n",
        "\n",
        "pdfReader = PyPDF2.PdfFileReader(pdfFileObject)\n",
        "print(\" No. Of Pages :\", pdfReader.numPages)\n",
        "pageObject = pdfReader.getPage(0)\n",
        "jd = pageObject.extractText()\n",
        "print(jd)\n",
        "pdfFileObject.close()"
      ],
      "metadata": {
        "colab": {
          "base_uri": "https://localhost:8080/"
        },
        "id": "flxws8VfTG8S",
        "outputId": "ef3d35fb-1a4f-463f-f496-37bbfb255ac0"
      },
      "execution_count": 135,
      "outputs": [
        {
          "output_type": "stream",
          "name": "stdout",
          "text": [
            " No. Of Pages : 2\n",
            "Company Name: 10hourlabsJob Title: Senior React Native DeveloperExperience: 3 YearsLocation: Full-Time -RemoteOverviewAre you looking to make an impact with an international and dynamic team that is 100% remotewith challenging opportunities? Then consider joining our team.We’re an internationaldevelopment team that focuses on providing opportunities for up-and-coming softwaredevelopers. Everyone at 10HL is passionate about learning and growing as a team. You’ll needreliable internet, your own MacBook, and you’ll be paid in your local currency. We are currentlyhiring a Backend Developer to join our engineering team.We have:\n",
            "\n",
            "●Flexible hours but with fixed recurring meetings, such as stand-ups, grooming, planning,and demos.●Paid internet, electricity, and health care.●A collaborative environment with learning and growth opportunities, and fun teamevents.Requirements:\n",
            "\n",
            "●At least 4+ years of professional work experience as a Software Developer.●Proven work experience as a Back-end developer●In-depth understanding of the entire web development process (design, developmentand deployment)●Hands-on experience with various programming languages like PHP, Python, Golang,RubyOnRails, Java, Node.js, SQL/NOSQL, etc.●Working knowledge of CMS framework●Familiarity with front-end languages (e.g. HTML, JavaScript and CSS)●Participate in the entire application lifecycle, focusing on coding and debugging●Write clean code to develop functional web applications●Troubleshoot and debug applications●Collaborate with Front-end developers to integrate user-facing elements with server sidelogic.●Gather and address technical and design requirements.●Build reusable code and libraries for future use.●Liaise with developers, designers and system administrators to identify new features.You have:\n",
            "\n",
            "●You’re a team player, not a lone wolf.●Passionate about learning and technology.\n"
          ]
        }
      ]
    },
    {
      "cell_type": "code",
      "source": [
        "name = re.findall(\"Company.*Title\", jd)\n",
        "name = \" \".join(map(str, name))\n",
        "name = name.rstrip(\"Title\")\n",
        "print(name)\n",
        "\n",
        "title = re.findall(\"Title.*Experience\", jd)\n",
        "title = \" \".join(map(str, title))\n",
        "title = title.rstrip(\"Experience\")\n",
        "print(title)\n",
        "\n",
        "exp = re.findall(\"Experience.*Location\", jd)\n",
        "exp = \" \".join(map(str, exp))\n",
        "exp = exp.rstrip(\"Location\")\n",
        "print(exp)\n",
        "\n",
        "loc = re.findall(\"Location.*Overview\", jd)\n",
        "loc = \" \".join(map(str, loc))\n",
        "loc = loc.rstrip(\"Overview\")\n",
        "print(loc)"
      ],
      "metadata": {
        "colab": {
          "base_uri": "https://localhost:8080/"
        },
        "id": "4dAj1uz-T6Pa",
        "outputId": "1ad49bdd-73b1-48e0-b29b-5bf9a86a3939"
      },
      "execution_count": 156,
      "outputs": [
        {
          "output_type": "stream",
          "name": "stdout",
          "text": [
            "Company Name: 10hourlabsJob \n",
            "Title: Senior React Native Develo\n",
            "Experience: 3 Years\n",
            "Location: Full-Time -Remot\n"
          ]
        }
      ]
    },
    {
      "cell_type": "code",
      "source": [
        ""
      ],
      "metadata": {
        "id": "Qdxjuvm2Vaia"
      },
      "execution_count": null,
      "outputs": []
    }
  ]
}