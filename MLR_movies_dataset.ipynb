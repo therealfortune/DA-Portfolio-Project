{
  "nbformat": 4,
  "nbformat_minor": 0,
  "metadata": {
    "colab": {
      "name": "MLR movies dataset.ipynb",
      "provenance": [],
      "authorship_tag": "ABX9TyP1CwJrD7zW4EVW5dMobXls",
      "include_colab_link": true
    },
    "kernelspec": {
      "name": "python3",
      "display_name": "Python 3"
    },
    "language_info": {
      "name": "python"
    }
  },
  "cells": [
    {
      "cell_type": "markdown",
      "metadata": {
        "id": "view-in-github",
        "colab_type": "text"
      },
      "source": [
        "<a href=\"https://colab.research.google.com/github/therealfortune/DA-Portfolio-Project/blob/master/MLR_movies_dataset.ipynb\" target=\"_parent\"><img src=\"https://colab.research.google.com/assets/colab-badge.svg\" alt=\"Open In Colab\"/></a>"
      ]
    },
    {
      "cell_type": "code",
      "execution_count": 57,
      "metadata": {
        "id": "nGZXumj5xyCU"
      },
      "outputs": [],
      "source": [
        "import pandas as pd \n",
        "import seaborn as sns\n",
        "import numpy as np \n",
        "\n",
        "import matplotlib\n",
        "%matplotlib inline\n",
        "import matplotlib.pyplot as plt\n",
        "plt.style.use('ggplot')"
      ]
    },
    {
      "cell_type": "code",
      "source": [
        "pd.set_option('display.max_rows', None)"
      ],
      "metadata": {
        "id": "8MC2YYnRyCeI"
      },
      "execution_count": 58,
      "outputs": []
    },
    {
      "cell_type": "code",
      "source": [
        "df = pd.read_csv('/content/movies.csv')\n",
        "df.head(2)"
      ],
      "metadata": {
        "colab": {
          "base_uri": "https://localhost:8080/",
          "height": 191
        },
        "id": "DtUTfn2nyK9s",
        "outputId": "4374a899-325b-4b5d-e32f-31bcce2c1522"
      },
      "execution_count": 59,
      "outputs": [
        {
          "output_type": "execute_result",
          "data": {
            "text/html": [
              "\n",
              "  <div id=\"df-9a94e6c8-9ba9-4ba5-964e-4ad6db10f099\">\n",
              "    <div class=\"colab-df-container\">\n",
              "      <div>\n",
              "<style scoped>\n",
              "    .dataframe tbody tr th:only-of-type {\n",
              "        vertical-align: middle;\n",
              "    }\n",
              "\n",
              "    .dataframe tbody tr th {\n",
              "        vertical-align: top;\n",
              "    }\n",
              "\n",
              "    .dataframe thead th {\n",
              "        text-align: right;\n",
              "    }\n",
              "</style>\n",
              "<table border=\"1\" class=\"dataframe\">\n",
              "  <thead>\n",
              "    <tr style=\"text-align: right;\">\n",
              "      <th></th>\n",
              "      <th>name</th>\n",
              "      <th>rating</th>\n",
              "      <th>genre</th>\n",
              "      <th>year</th>\n",
              "      <th>released</th>\n",
              "      <th>score</th>\n",
              "      <th>votes</th>\n",
              "      <th>director</th>\n",
              "      <th>writer</th>\n",
              "      <th>star</th>\n",
              "      <th>country</th>\n",
              "      <th>budget</th>\n",
              "      <th>gross</th>\n",
              "      <th>company</th>\n",
              "      <th>runtime</th>\n",
              "    </tr>\n",
              "  </thead>\n",
              "  <tbody>\n",
              "    <tr>\n",
              "      <th>0</th>\n",
              "      <td>The Shining</td>\n",
              "      <td>R</td>\n",
              "      <td>Drama</td>\n",
              "      <td>1980</td>\n",
              "      <td>June 13, 1980 (United States)</td>\n",
              "      <td>8.4</td>\n",
              "      <td>927000.0</td>\n",
              "      <td>Stanley Kubrick</td>\n",
              "      <td>Stephen King</td>\n",
              "      <td>Jack Nicholson</td>\n",
              "      <td>United Kingdom</td>\n",
              "      <td>19000000.0</td>\n",
              "      <td>46998772.0</td>\n",
              "      <td>Warner Bros.</td>\n",
              "      <td>146.0</td>\n",
              "    </tr>\n",
              "    <tr>\n",
              "      <th>1</th>\n",
              "      <td>The Blue Lagoon</td>\n",
              "      <td>R</td>\n",
              "      <td>Adventure</td>\n",
              "      <td>1980</td>\n",
              "      <td>July 2, 1980 (United States)</td>\n",
              "      <td>5.8</td>\n",
              "      <td>65000.0</td>\n",
              "      <td>Randal Kleiser</td>\n",
              "      <td>Henry De Vere Stacpoole</td>\n",
              "      <td>Brooke Shields</td>\n",
              "      <td>United States</td>\n",
              "      <td>4500000.0</td>\n",
              "      <td>58853106.0</td>\n",
              "      <td>Columbia Pictures</td>\n",
              "      <td>104.0</td>\n",
              "    </tr>\n",
              "  </tbody>\n",
              "</table>\n",
              "</div>\n",
              "      <button class=\"colab-df-convert\" onclick=\"convertToInteractive('df-9a94e6c8-9ba9-4ba5-964e-4ad6db10f099')\"\n",
              "              title=\"Convert this dataframe to an interactive table.\"\n",
              "              style=\"display:none;\">\n",
              "        \n",
              "  <svg xmlns=\"http://www.w3.org/2000/svg\" height=\"24px\"viewBox=\"0 0 24 24\"\n",
              "       width=\"24px\">\n",
              "    <path d=\"M0 0h24v24H0V0z\" fill=\"none\"/>\n",
              "    <path d=\"M18.56 5.44l.94 2.06.94-2.06 2.06-.94-2.06-.94-.94-2.06-.94 2.06-2.06.94zm-11 1L8.5 8.5l.94-2.06 2.06-.94-2.06-.94L8.5 2.5l-.94 2.06-2.06.94zm10 10l.94 2.06.94-2.06 2.06-.94-2.06-.94-.94-2.06-.94 2.06-2.06.94z\"/><path d=\"M17.41 7.96l-1.37-1.37c-.4-.4-.92-.59-1.43-.59-.52 0-1.04.2-1.43.59L10.3 9.45l-7.72 7.72c-.78.78-.78 2.05 0 2.83L4 21.41c.39.39.9.59 1.41.59.51 0 1.02-.2 1.41-.59l7.78-7.78 2.81-2.81c.8-.78.8-2.07 0-2.86zM5.41 20L4 18.59l7.72-7.72 1.47 1.35L5.41 20z\"/>\n",
              "  </svg>\n",
              "      </button>\n",
              "      \n",
              "  <style>\n",
              "    .colab-df-container {\n",
              "      display:flex;\n",
              "      flex-wrap:wrap;\n",
              "      gap: 12px;\n",
              "    }\n",
              "\n",
              "    .colab-df-convert {\n",
              "      background-color: #E8F0FE;\n",
              "      border: none;\n",
              "      border-radius: 50%;\n",
              "      cursor: pointer;\n",
              "      display: none;\n",
              "      fill: #1967D2;\n",
              "      height: 32px;\n",
              "      padding: 0 0 0 0;\n",
              "      width: 32px;\n",
              "    }\n",
              "\n",
              "    .colab-df-convert:hover {\n",
              "      background-color: #E2EBFA;\n",
              "      box-shadow: 0px 1px 2px rgba(60, 64, 67, 0.3), 0px 1px 3px 1px rgba(60, 64, 67, 0.15);\n",
              "      fill: #174EA6;\n",
              "    }\n",
              "\n",
              "    [theme=dark] .colab-df-convert {\n",
              "      background-color: #3B4455;\n",
              "      fill: #D2E3FC;\n",
              "    }\n",
              "\n",
              "    [theme=dark] .colab-df-convert:hover {\n",
              "      background-color: #434B5C;\n",
              "      box-shadow: 0px 1px 3px 1px rgba(0, 0, 0, 0.15);\n",
              "      filter: drop-shadow(0px 1px 2px rgba(0, 0, 0, 0.3));\n",
              "      fill: #FFFFFF;\n",
              "    }\n",
              "  </style>\n",
              "\n",
              "      <script>\n",
              "        const buttonEl =\n",
              "          document.querySelector('#df-9a94e6c8-9ba9-4ba5-964e-4ad6db10f099 button.colab-df-convert');\n",
              "        buttonEl.style.display =\n",
              "          google.colab.kernel.accessAllowed ? 'block' : 'none';\n",
              "\n",
              "        async function convertToInteractive(key) {\n",
              "          const element = document.querySelector('#df-9a94e6c8-9ba9-4ba5-964e-4ad6db10f099');\n",
              "          const dataTable =\n",
              "            await google.colab.kernel.invokeFunction('convertToInteractive',\n",
              "                                                     [key], {});\n",
              "          if (!dataTable) return;\n",
              "\n",
              "          const docLinkHtml = 'Like what you see? Visit the ' +\n",
              "            '<a target=\"_blank\" href=https://colab.research.google.com/notebooks/data_table.ipynb>data table notebook</a>'\n",
              "            + ' to learn more about interactive tables.';\n",
              "          element.innerHTML = '';\n",
              "          dataTable['output_type'] = 'display_data';\n",
              "          await google.colab.output.renderOutput(dataTable, element);\n",
              "          const docLink = document.createElement('div');\n",
              "          docLink.innerHTML = docLinkHtml;\n",
              "          element.appendChild(docLink);\n",
              "        }\n",
              "      </script>\n",
              "    </div>\n",
              "  </div>\n",
              "  "
            ],
            "text/plain": [
              "              name rating      genre  ...       gross            company  runtime\n",
              "0      The Shining      R      Drama  ...  46998772.0       Warner Bros.    146.0\n",
              "1  The Blue Lagoon      R  Adventure  ...  58853106.0  Columbia Pictures    104.0\n",
              "\n",
              "[2 rows x 15 columns]"
            ]
          },
          "metadata": {},
          "execution_count": 59
        }
      ]
    },
    {
      "cell_type": "markdown",
      "source": [
        "Checking for missing data"
      ],
      "metadata": {
        "id": "oRqyV23IyU5i"
      }
    },
    {
      "cell_type": "code",
      "source": [
        "for col in df.columns:\n",
        "  pct_missing = np.mean(df[col].isnull())\n",
        "  print('{} ---> {}'.format(col, round(pct_missing)))"
      ],
      "metadata": {
        "colab": {
          "base_uri": "https://localhost:8080/"
        },
        "id": "pazOFEHDyRzo",
        "outputId": "c3b57566-dca2-4871-b9aa-596578f8744a"
      },
      "execution_count": 60,
      "outputs": [
        {
          "output_type": "stream",
          "name": "stdout",
          "text": [
            "name ---> 0\n",
            "rating ---> 0\n",
            "genre ---> 0\n",
            "year ---> 0\n",
            "released ---> 0\n",
            "score ---> 0\n",
            "votes ---> 0\n",
            "director ---> 0\n",
            "writer ---> 0\n",
            "star ---> 0\n",
            "country ---> 0\n",
            "budget ---> 0\n",
            "gross ---> 0\n",
            "company ---> 0\n",
            "runtime ---> 0\n"
          ]
        }
      ]
    },
    {
      "cell_type": "code",
      "source": [
        "df = df[~df['votes'].isnull()]\n",
        "df = df[~df['budget'].isnull()]\n",
        "df = df[~df['gross'].isnull()]\n",
        "df = df[~df['runtime'].isnull()]\n",
        "df = df[~df['company'].isnull()]"
      ],
      "metadata": {
        "id": "E6rVWhPz9Xl5"
      },
      "execution_count": 65,
      "outputs": []
    },
    {
      "cell_type": "code",
      "source": [
        "correlation_matrix = df.corr(method='pearson')\n",
        "sns.heatmap(correlation_matrix, annot=True)\n",
        "plt.title('Correlation Matrix for Numeric Features')\n",
        "plt.xlabel('Movie Features')\n",
        "plt.ylabel('Movie Features')\n",
        "plt.show()"
      ],
      "metadata": {
        "colab": {
          "base_uri": "https://localhost:8080/",
          "height": 299
        },
        "id": "AOgADcI7yrvY",
        "outputId": "1b412f21-b1d3-4c45-e854-0c2c4b2bf49d"
      },
      "execution_count": 66,
      "outputs": [
        {
          "output_type": "display_data",
          "data": {
            "image/png": "[encoded data removed]",
            "text/plain": [
              "<Figure size 432x288 with 2 Axes>"
            ]
          },
          "metadata": {}
        }
      ]
    },
    {
      "cell_type": "markdown",
      "source": [
        "Looking at this heatmap , we can deduce that budget, votes, runtime ,score and year is correlated to gross"
      ],
      "metadata": {
        "id": "SUTMzjfGy9vF"
      }
    },
    {
      "cell_type": "code",
      "source": [
        "df.dtypes"
      ],
      "metadata": {
        "colab": {
          "base_uri": "https://localhost:8080/"
        },
        "id": "NJWv81Py0EYA",
        "outputId": "73f189fc-1106-4510-9496-f0a9c9b37ad4"
      },
      "execution_count": 67,
      "outputs": [
        {
          "output_type": "execute_result",
          "data": {
            "text/plain": [
              "name         object\n",
              "rating       object\n",
              "genre        object\n",
              "year          int64\n",
              "released     object\n",
              "score       float64\n",
              "votes       float64\n",
              "director     object\n",
              "writer       object\n",
              "star         object\n",
              "country      object\n",
              "budget      float64\n",
              "gross       float64\n",
              "company      object\n",
              "runtime     float64\n",
              "dtype: object"
            ]
          },
          "metadata": {},
          "execution_count": 67
        }
      ]
    },
    {
      "cell_type": "markdown",
      "source": [
        "Converting Float datatype to Integers"
      ],
      "metadata": {
        "id": "bze1ECrK0ki5"
      }
    },
    {
      "cell_type": "code",
      "source": [
        "df2 = df\n",
        "\n",
        "for col_name in df2.columns:\n",
        "  if(df2[col_name].dtype == 'float64'):\n",
        "    df2[col_name] = df2[col_name].astype('int')\n",
        "df2.head(2)"
      ],
      "metadata": {
        "colab": {
          "base_uri": "https://localhost:8080/",
          "height": 191
        },
        "id": "ASFEP-tYzwIg",
        "outputId": "7853524c-619f-4404-ab5d-d904ab92e066"
      },
      "execution_count": 68,
      "outputs": [
        {
          "output_type": "execute_result",
          "data": {
            "text/html": [
              "\n",
              "  <div id=\"df-bf43d8d5-c505-415d-95ac-78ee528dbfd4\">\n",
              "    <div class=\"colab-df-container\">\n",
              "      <div>\n",
              "<style scoped>\n",
              "    .dataframe tbody tr th:only-of-type {\n",
              "        vertical-align: middle;\n",
              "    }\n",
              "\n",
              "    .dataframe tbody tr th {\n",
              "        vertical-align: top;\n",
              "    }\n",
              "\n",
              "    .dataframe thead th {\n",
              "        text-align: right;\n",
              "    }\n",
              "</style>\n",
              "<table border=\"1\" class=\"dataframe\">\n",
              "  <thead>\n",
              "    <tr style=\"text-align: right;\">\n",
              "      <th></th>\n",
              "      <th>name</th>\n",
              "      <th>rating</th>\n",
              "      <th>genre</th>\n",
              "      <th>year</th>\n",
              "      <th>released</th>\n",
              "      <th>score</th>\n",
              "      <th>votes</th>\n",
              "      <th>director</th>\n",
              "      <th>writer</th>\n",
              "      <th>star</th>\n",
              "      <th>country</th>\n",
              "      <th>budget</th>\n",
              "      <th>gross</th>\n",
              "      <th>company</th>\n",
              "      <th>runtime</th>\n",
              "    </tr>\n",
              "  </thead>\n",
              "  <tbody>\n",
              "    <tr>\n",
              "      <th>0</th>\n",
              "      <td>The Shining</td>\n",
              "      <td>R</td>\n",
              "      <td>Drama</td>\n",
              "      <td>1980</td>\n",
              "      <td>June 13, 1980 (United States)</td>\n",
              "      <td>8</td>\n",
              "      <td>927000</td>\n",
              "      <td>Stanley Kubrick</td>\n",
              "      <td>Stephen King</td>\n",
              "      <td>Jack Nicholson</td>\n",
              "      <td>United Kingdom</td>\n",
              "      <td>19000000</td>\n",
              "      <td>46998772</td>\n",
              "      <td>Warner Bros.</td>\n",
              "      <td>146</td>\n",
              "    </tr>\n",
              "    <tr>\n",
              "      <th>1</th>\n",
              "      <td>The Blue Lagoon</td>\n",
              "      <td>R</td>\n",
              "      <td>Adventure</td>\n",
              "      <td>1980</td>\n",
              "      <td>July 2, 1980 (United States)</td>\n",
              "      <td>5</td>\n",
              "      <td>65000</td>\n",
              "      <td>Randal Kleiser</td>\n",
              "      <td>Henry De Vere Stacpoole</td>\n",
              "      <td>Brooke Shields</td>\n",
              "      <td>United States</td>\n",
              "      <td>4500000</td>\n",
              "      <td>58853106</td>\n",
              "      <td>Columbia Pictures</td>\n",
              "      <td>104</td>\n",
              "    </tr>\n",
              "  </tbody>\n",
              "</table>\n",
              "</div>\n",
              "      <button class=\"colab-df-convert\" onclick=\"convertToInteractive('df-bf43d8d5-c505-415d-95ac-78ee528dbfd4')\"\n",
              "              title=\"Convert this dataframe to an interactive table.\"\n",
              "              style=\"display:none;\">\n",
              "        \n",
              "  <svg xmlns=\"http://www.w3.org/2000/svg\" height=\"24px\"viewBox=\"0 0 24 24\"\n",
              "       width=\"24px\">\n",
              "    <path d=\"M0 0h24v24H0V0z\" fill=\"none\"/>\n",
              "    <path d=\"M18.56 5.44l.94 2.06.94-2.06 2.06-.94-2.06-.94-.94-2.06-.94 2.06-2.06.94zm-11 1L8.5 8.5l.94-2.06 2.06-.94-2.06-.94L8.5 2.5l-.94 2.06-2.06.94zm10 10l.94 2.06.94-2.06 2.06-.94-2.06-.94-.94-2.06-.94 2.06-2.06.94z\"/><path d=\"M17.41 7.96l-1.37-1.37c-.4-.4-.92-.59-1.43-.59-.52 0-1.04.2-1.43.59L10.3 9.45l-7.72 7.72c-.78.78-.78 2.05 0 2.83L4 21.41c.39.39.9.59 1.41.59.51 0 1.02-.2 1.41-.59l7.78-7.78 2.81-2.81c.8-.78.8-2.07 0-2.86zM5.41 20L4 18.59l7.72-7.72 1.47 1.35L5.41 20z\"/>\n",
              "  </svg>\n",
              "      </button>\n",
              "      \n",
              "  <style>\n",
              "    .colab-df-container {\n",
              "      display:flex;\n",
              "      flex-wrap:wrap;\n",
              "      gap: 12px;\n",
              "    }\n",
              "\n",
              "    .colab-df-convert {\n",
              "      background-color: #E8F0FE;\n",
              "      border: none;\n",
              "      border-radius: 50%;\n",
              "      cursor: pointer;\n",
              "      display: none;\n",
              "      fill: #1967D2;\n",
              "      height: 32px;\n",
              "      padding: 0 0 0 0;\n",
              "      width: 32px;\n",
              "    }\n",
              "\n",
              "    .colab-df-convert:hover {\n",
              "      background-color: #E2EBFA;\n",
              "      box-shadow: 0px 1px 2px rgba(60, 64, 67, 0.3), 0px 1px 3px 1px rgba(60, 64, 67, 0.15);\n",
              "      fill: #174EA6;\n",
              "    }\n",
              "\n",
              "    [theme=dark] .colab-df-convert {\n",
              "      background-color: #3B4455;\n",
              "      fill: #D2E3FC;\n",
              "    }\n",
              "\n",
              "    [theme=dark] .colab-df-convert:hover {\n",
              "      background-color: #434B5C;\n",
              "      box-shadow: 0px 1px 3px 1px rgba(0, 0, 0, 0.15);\n",
              "      filter: drop-shadow(0px 1px 2px rgba(0, 0, 0, 0.3));\n",
              "      fill: #FFFFFF;\n",
              "    }\n",
              "  </style>\n",
              "\n",
              "      <script>\n",
              "        const buttonEl =\n",
              "          document.querySelector('#df-bf43d8d5-c505-415d-95ac-78ee528dbfd4 button.colab-df-convert');\n",
              "        buttonEl.style.display =\n",
              "          google.colab.kernel.accessAllowed ? 'block' : 'none';\n",
              "\n",
              "        async function convertToInteractive(key) {\n",
              "          const element = document.querySelector('#df-bf43d8d5-c505-415d-95ac-78ee528dbfd4');\n",
              "          const dataTable =\n",
              "            await google.colab.kernel.invokeFunction('convertToInteractive',\n",
              "                                                     [key], {});\n",
              "          if (!dataTable) return;\n",
              "\n",
              "          const docLinkHtml = 'Like what you see? Visit the ' +\n",
              "            '<a target=\"_blank\" href=https://colab.research.google.com/notebooks/data_table.ipynb>data table notebook</a>'\n",
              "            + ' to learn more about interactive tables.';\n",
              "          element.innerHTML = '';\n",
              "          dataTable['output_type'] = 'display_data';\n",
              "          await google.colab.output.renderOutput(dataTable, element);\n",
              "          const docLink = document.createElement('div');\n",
              "          docLink.innerHTML = docLinkHtml;\n",
              "          element.appendChild(docLink);\n",
              "        }\n",
              "      </script>\n",
              "    </div>\n",
              "  </div>\n",
              "  "
            ],
            "text/plain": [
              "              name rating      genre  ...     gross            company  runtime\n",
              "0      The Shining      R      Drama  ...  46998772       Warner Bros.      146\n",
              "1  The Blue Lagoon      R  Adventure  ...  58853106  Columbia Pictures      104\n",
              "\n",
              "[2 rows x 15 columns]"
            ]
          },
          "metadata": {},
          "execution_count": 68
        }
      ]
    },
    {
      "cell_type": "markdown",
      "source": [
        "Converting objects datatypes to categorical data type"
      ],
      "metadata": {
        "id": "HZ3WguTR0q1C"
      }
    },
    {
      "cell_type": "code",
      "source": [
        "for col_name in df2.columns:\n",
        "  if df2[col_name].dtype == 'object':\n",
        "    df2[col_name] = df2[col_name].astype('category').cat.codes\n",
        "df2.head(2)"
      ],
      "metadata": {
        "colab": {
          "base_uri": "https://localhost:8080/",
          "height": 112
        },
        "id": "6ux3FsOTz0Mq",
        "outputId": "12db9d00-be4c-4729-8cfd-6cc7f955a726"
      },
      "execution_count": 69,
      "outputs": [
        {
          "output_type": "execute_result",
          "data": {
            "text/html": [
              "\n",
              "  <div id=\"df-a01b9acc-fd3d-4e97-b231-397615509f44\">\n",
              "    <div class=\"colab-df-container\">\n",
              "      <div>\n",
              "<style scoped>\n",
              "    .dataframe tbody tr th:only-of-type {\n",
              "        vertical-align: middle;\n",
              "    }\n",
              "\n",
              "    .dataframe tbody tr th {\n",
              "        vertical-align: top;\n",
              "    }\n",
              "\n",
              "    .dataframe thead th {\n",
              "        text-align: right;\n",
              "    }\n",
              "</style>\n",
              "<table border=\"1\" class=\"dataframe\">\n",
              "  <thead>\n",
              "    <tr style=\"text-align: right;\">\n",
              "      <th></th>\n",
              "      <th>name</th>\n",
              "      <th>rating</th>\n",
              "      <th>genre</th>\n",
              "      <th>year</th>\n",
              "      <th>released</th>\n",
              "      <th>score</th>\n",
              "      <th>votes</th>\n",
              "      <th>director</th>\n",
              "      <th>writer</th>\n",
              "      <th>star</th>\n",
              "      <th>country</th>\n",
              "      <th>budget</th>\n",
              "      <th>gross</th>\n",
              "      <th>company</th>\n",
              "      <th>runtime</th>\n",
              "    </tr>\n",
              "  </thead>\n",
              "  <tbody>\n",
              "    <tr>\n",
              "      <th>0</th>\n",
              "      <td>4703</td>\n",
              "      <td>6</td>\n",
              "      <td>6</td>\n",
              "      <td>1980</td>\n",
              "      <td>1308</td>\n",
              "      <td>8</td>\n",
              "      <td>927000</td>\n",
              "      <td>1798</td>\n",
              "      <td>2839</td>\n",
              "      <td>700</td>\n",
              "      <td>46</td>\n",
              "      <td>19000000</td>\n",
              "      <td>46998772</td>\n",
              "      <td>1432</td>\n",
              "      <td>146</td>\n",
              "    </tr>\n",
              "    <tr>\n",
              "      <th>1</th>\n",
              "      <td>3940</td>\n",
              "      <td>6</td>\n",
              "      <td>1</td>\n",
              "      <td>1980</td>\n",
              "      <td>1131</td>\n",
              "      <td>5</td>\n",
              "      <td>65000</td>\n",
              "      <td>1580</td>\n",
              "      <td>1159</td>\n",
              "      <td>215</td>\n",
              "      <td>47</td>\n",
              "      <td>4500000</td>\n",
              "      <td>58853106</td>\n",
              "      <td>454</td>\n",
              "      <td>104</td>\n",
              "    </tr>\n",
              "  </tbody>\n",
              "</table>\n",
              "</div>\n",
              "      <button class=\"colab-df-convert\" onclick=\"convertToInteractive('df-a01b9acc-fd3d-4e97-b231-397615509f44')\"\n",
              "              title=\"Convert this dataframe to an interactive table.\"\n",
              "              style=\"display:none;\">\n",
              "        \n",
              "  <svg xmlns=\"http://www.w3.org/2000/svg\" height=\"24px\"viewBox=\"0 0 24 24\"\n",
              "       width=\"24px\">\n",
              "    <path d=\"M0 0h24v24H0V0z\" fill=\"none\"/>\n",
              "    <path d=\"M18.56 5.44l.94 2.06.94-2.06 2.06-.94-2.06-.94-.94-2.06-.94 2.06-2.06.94zm-11 1L8.5 8.5l.94-2.06 2.06-.94-2.06-.94L8.5 2.5l-.94 2.06-2.06.94zm10 10l.94 2.06.94-2.06 2.06-.94-2.06-.94-.94-2.06-.94 2.06-2.06.94z\"/><path d=\"M17.41 7.96l-1.37-1.37c-.4-.4-.92-.59-1.43-.59-.52 0-1.04.2-1.43.59L10.3 9.45l-7.72 7.72c-.78.78-.78 2.05 0 2.83L4 21.41c.39.39.9.59 1.41.59.51 0 1.02-.2 1.41-.59l7.78-7.78 2.81-2.81c.8-.78.8-2.07 0-2.86zM5.41 20L4 18.59l7.72-7.72 1.47 1.35L5.41 20z\"/>\n",
              "  </svg>\n",
              "      </button>\n",
              "      \n",
              "  <style>\n",
              "    .colab-df-container {\n",
              "      display:flex;\n",
              "      flex-wrap:wrap;\n",
              "      gap: 12px;\n",
              "    }\n",
              "\n",
              "    .colab-df-convert {\n",
              "      background-color: #E8F0FE;\n",
              "      border: none;\n",
              "      border-radius: 50%;\n",
              "      cursor: pointer;\n",
              "      display: none;\n",
              "      fill: #1967D2;\n",
              "      height: 32px;\n",
              "      padding: 0 0 0 0;\n",
              "      width: 32px;\n",
              "    }\n",
              "\n",
              "    .colab-df-convert:hover {\n",
              "      background-color: #E2EBFA;\n",
              "      box-shadow: 0px 1px 2px rgba(60, 64, 67, 0.3), 0px 1px 3px 1px rgba(60, 64, 67, 0.15);\n",
              "      fill: #174EA6;\n",
              "    }\n",
              "\n",
              "    [theme=dark] .colab-df-convert {\n",
              "      background-color: #3B4455;\n",
              "      fill: #D2E3FC;\n",
              "    }\n",
              "\n",
              "    [theme=dark] .colab-df-convert:hover {\n",
              "      background-color: #434B5C;\n",
              "      box-shadow: 0px 1px 3px 1px rgba(0, 0, 0, 0.15);\n",
              "      filter: drop-shadow(0px 1px 2px rgba(0, 0, 0, 0.3));\n",
              "      fill: #FFFFFF;\n",
              "    }\n",
              "  </style>\n",
              "\n",
              "      <script>\n",
              "        const buttonEl =\n",
              "          document.querySelector('#df-a01b9acc-fd3d-4e97-b231-397615509f44 button.colab-df-convert');\n",
              "        buttonEl.style.display =\n",
              "          google.colab.kernel.accessAllowed ? 'block' : 'none';\n",
              "\n",
              "        async function convertToInteractive(key) {\n",
              "          const element = document.querySelector('#df-a01b9acc-fd3d-4e97-b231-397615509f44');\n",
              "          const dataTable =\n",
              "            await google.colab.kernel.invokeFunction('convertToInteractive',\n",
              "                                                     [key], {});\n",
              "          if (!dataTable) return;\n",
              "\n",
              "          const docLinkHtml = 'Like what you see? Visit the ' +\n",
              "            '<a target=\"_blank\" href=https://colab.research.google.com/notebooks/data_table.ipynb>data table notebook</a>'\n",
              "            + ' to learn more about interactive tables.';\n",
              "          element.innerHTML = '';\n",
              "          dataTable['output_type'] = 'display_data';\n",
              "          await google.colab.output.renderOutput(dataTable, element);\n",
              "          const docLink = document.createElement('div');\n",
              "          docLink.innerHTML = docLinkHtml;\n",
              "          element.appendChild(docLink);\n",
              "        }\n",
              "      </script>\n",
              "    </div>\n",
              "  </div>\n",
              "  "
            ],
            "text/plain": [
              "   name  rating  genre  year  ...    budget     gross  company  runtime\n",
              "0  4703       6      6  1980  ...  19000000  46998772     1432      146\n",
              "1  3940       6      1  1980  ...   4500000  58853106      454      104\n",
              "\n",
              "[2 rows x 15 columns]"
            ]
          },
          "metadata": {},
          "execution_count": 69
        }
      ]
    },
    {
      "cell_type": "code",
      "source": [
        "correlation_matrix = df2.corr(method='pearson')\n",
        "sns.heatmap(correlation_matrix, annot=True)\n",
        "plt.title('Correlation Matrix for Numeric Features')\n",
        "plt.xlabel('Movie Features')\n",
        "plt.ylabel('Movie Features')\n",
        "plt.show()"
      ],
      "metadata": {
        "colab": {
          "base_uri": "https://localhost:8080/",
          "height": 335
        },
        "id": "6BMfUcwn1Rtl",
        "outputId": "e82d4373-1ff8-4d00-8e53-0181820adecc"
      },
      "execution_count": 70,
      "outputs": [
        {
          "output_type": "display_data",
          "data": {
            "image/png": "[encoded data removed]",
            "text/plain": [
              "<Figure size 432x288 with 2 Axes>"
            ]
          },
          "metadata": {}
        }
      ]
    },
    {
      "cell_type": "markdown",
      "source": [
        "knowing that budget , votes , runtime , year and score has correlation with gross, let us check the correlation between other columns"
      ],
      "metadata": {
        "id": "swHpGeTY3K2t"
      }
    },
    {
      "cell_type": "code",
      "source": [
        "cor1 = df2.gross.corr(df2.name)\n",
        "cor2 = df2.gross.corr(df2.rating)\n",
        "cor3 = df2.gross.corr(df2.genre)\n",
        "cor4 = df2.gross.corr(df2.released)\n",
        "cor5 = df2.gross.corr(df2.country)\n",
        "cor6 = df2.gross.corr(df2.company)\n",
        "\n",
        "print(f'name: {cor1}, \\n rating: {cor2}, \\n genre: {cor3} \\n released: {cor4}, \\n country: {cor5}, \\n company: {cor6} ')"
      ],
      "metadata": {
        "colab": {
          "base_uri": "https://localhost:8080/"
        },
        "id": "yJmf0RlW2IfM",
        "outputId": "7293d137-18ac-4be6-e43b-228454f6e091"
      },
      "execution_count": 71,
      "outputs": [
        {
          "output_type": "stream",
          "name": "stdout",
          "text": [
            "name: 0.005992226401849058, \n",
            " rating: -0.16910694536943108, \n",
            " genre: -0.24444625153086538 \n",
            " released: 0.00862317518252741, \n",
            " country: 0.061025358279074855, \n",
            " company: 0.14994348311873007 \n"
          ]
        }
      ]
    },
    {
      "cell_type": "markdown",
      "source": [
        "Dropping other columns in the movie data set due to their low statistical signicance, We are dropping all columns except year, budget, votes, score, budget , company and gross"
      ],
      "metadata": {
        "id": "T2qILN8jznQa"
      }
    },
    {
      "cell_type": "code",
      "source": [
        "df2 = df2.drop(columns=\"name\")\n",
        "df2 = df2.drop(columns=\"rating\")\n",
        "df2 = df2.drop(columns=\"genre\")\n",
        "df2 = df2.drop(columns=\"released\")\n",
        "df2 = df2.drop(columns=\"country\")\n",
        "df2 = df2.drop(columns=\"director\")\n",
        "df2 = df2.drop(columns=\"writer\")\n",
        "df2 = df2.drop(columns=\"runtime\")"
      ],
      "metadata": {
        "id": "CtDvdGPNyy6k"
      },
      "execution_count": 72,
      "outputs": []
    },
    {
      "cell_type": "code",
      "source": [
        "df2.head()"
      ],
      "metadata": {
        "colab": {
          "base_uri": "https://localhost:8080/",
          "height": 206
        },
        "id": "ZfJhH3RA5t6j",
        "outputId": "dca8345b-2313-4e10-ac68-e26441508766"
      },
      "execution_count": 73,
      "outputs": [
        {
          "output_type": "execute_result",
          "data": {
            "text/html": [
              "\n",
              "  <div id=\"df-2a52a06a-4306-4c18-a824-a05d8e50739d\">\n",
              "    <div class=\"colab-df-container\">\n",
              "      <div>\n",
              "<style scoped>\n",
              "    .dataframe tbody tr th:only-of-type {\n",
              "        vertical-align: middle;\n",
              "    }\n",
              "\n",
              "    .dataframe tbody tr th {\n",
              "        vertical-align: top;\n",
              "    }\n",
              "\n",
              "    .dataframe thead th {\n",
              "        text-align: right;\n",
              "    }\n",
              "</style>\n",
              "<table border=\"1\" class=\"dataframe\">\n",
              "  <thead>\n",
              "    <tr style=\"text-align: right;\">\n",
              "      <th></th>\n",
              "      <th>year</th>\n",
              "      <th>score</th>\n",
              "      <th>votes</th>\n",
              "      <th>star</th>\n",
              "      <th>budget</th>\n",
              "      <th>gross</th>\n",
              "      <th>company</th>\n",
              "    </tr>\n",
              "  </thead>\n",
              "  <tbody>\n",
              "    <tr>\n",
              "      <th>0</th>\n",
              "      <td>1980</td>\n",
              "      <td>8</td>\n",
              "      <td>927000</td>\n",
              "      <td>700</td>\n",
              "      <td>19000000</td>\n",
              "      <td>46998772</td>\n",
              "      <td>1432</td>\n",
              "    </tr>\n",
              "    <tr>\n",
              "      <th>1</th>\n",
              "      <td>1980</td>\n",
              "      <td>5</td>\n",
              "      <td>65000</td>\n",
              "      <td>215</td>\n",
              "      <td>4500000</td>\n",
              "      <td>58853106</td>\n",
              "      <td>454</td>\n",
              "    </tr>\n",
              "    <tr>\n",
              "      <th>2</th>\n",
              "      <td>1980</td>\n",
              "      <td>8</td>\n",
              "      <td>1200000</td>\n",
              "      <td>1161</td>\n",
              "      <td>18000000</td>\n",
              "      <td>538375067</td>\n",
              "      <td>949</td>\n",
              "    </tr>\n",
              "    <tr>\n",
              "      <th>3</th>\n",
              "      <td>1980</td>\n",
              "      <td>7</td>\n",
              "      <td>221000</td>\n",
              "      <td>1478</td>\n",
              "      <td>3500000</td>\n",
              "      <td>83453539</td>\n",
              "      <td>1114</td>\n",
              "    </tr>\n",
              "    <tr>\n",
              "      <th>4</th>\n",
              "      <td>1980</td>\n",
              "      <td>7</td>\n",
              "      <td>108000</td>\n",
              "      <td>272</td>\n",
              "      <td>6000000</td>\n",
              "      <td>39846344</td>\n",
              "      <td>1089</td>\n",
              "    </tr>\n",
              "  </tbody>\n",
              "</table>\n",
              "</div>\n",
              "      <button class=\"colab-df-convert\" onclick=\"convertToInteractive('df-2a52a06a-4306-4c18-a824-a05d8e50739d')\"\n",
              "              title=\"Convert this dataframe to an interactive table.\"\n",
              "              style=\"display:none;\">\n",
              "        \n",
              "  <svg xmlns=\"http://www.w3.org/2000/svg\" height=\"24px\"viewBox=\"0 0 24 24\"\n",
              "       width=\"24px\">\n",
              "    <path d=\"M0 0h24v24H0V0z\" fill=\"none\"/>\n",
              "    <path d=\"M18.56 5.44l.94 2.06.94-2.06 2.06-.94-2.06-.94-.94-2.06-.94 2.06-2.06.94zm-11 1L8.5 8.5l.94-2.06 2.06-.94-2.06-.94L8.5 2.5l-.94 2.06-2.06.94zm10 10l.94 2.06.94-2.06 2.06-.94-2.06-.94-.94-2.06-.94 2.06-2.06.94z\"/><path d=\"M17.41 7.96l-1.37-1.37c-.4-.4-.92-.59-1.43-.59-.52 0-1.04.2-1.43.59L10.3 9.45l-7.72 7.72c-.78.78-.78 2.05 0 2.83L4 21.41c.39.39.9.59 1.41.59.51 0 1.02-.2 1.41-.59l7.78-7.78 2.81-2.81c.8-.78.8-2.07 0-2.86zM5.41 20L4 18.59l7.72-7.72 1.47 1.35L5.41 20z\"/>\n",
              "  </svg>\n",
              "      </button>\n",
              "      \n",
              "  <style>\n",
              "    .colab-df-container {\n",
              "      display:flex;\n",
              "      flex-wrap:wrap;\n",
              "      gap: 12px;\n",
              "    }\n",
              "\n",
              "    .colab-df-convert {\n",
              "      background-color: #E8F0FE;\n",
              "      border: none;\n",
              "      border-radius: 50%;\n",
              "      cursor: pointer;\n",
              "      display: none;\n",
              "      fill: #1967D2;\n",
              "      height: 32px;\n",
              "      padding: 0 0 0 0;\n",
              "      width: 32px;\n",
              "    }\n",
              "\n",
              "    .colab-df-convert:hover {\n",
              "      background-color: #E2EBFA;\n",
              "      box-shadow: 0px 1px 2px rgba(60, 64, 67, 0.3), 0px 1px 3px 1px rgba(60, 64, 67, 0.15);\n",
              "      fill: #174EA6;\n",
              "    }\n",
              "\n",
              "    [theme=dark] .colab-df-convert {\n",
              "      background-color: #3B4455;\n",
              "      fill: #D2E3FC;\n",
              "    }\n",
              "\n",
              "    [theme=dark] .colab-df-convert:hover {\n",
              "      background-color: #434B5C;\n",
              "      box-shadow: 0px 1px 3px 1px rgba(0, 0, 0, 0.15);\n",
              "      filter: drop-shadow(0px 1px 2px rgba(0, 0, 0, 0.3));\n",
              "      fill: #FFFFFF;\n",
              "    }\n",
              "  </style>\n",
              "\n",
              "      <script>\n",
              "        const buttonEl =\n",
              "          document.querySelector('#df-2a52a06a-4306-4c18-a824-a05d8e50739d button.colab-df-convert');\n",
              "        buttonEl.style.display =\n",
              "          google.colab.kernel.accessAllowed ? 'block' : 'none';\n",
              "\n",
              "        async function convertToInteractive(key) {\n",
              "          const element = document.querySelector('#df-2a52a06a-4306-4c18-a824-a05d8e50739d');\n",
              "          const dataTable =\n",
              "            await google.colab.kernel.invokeFunction('convertToInteractive',\n",
              "                                                     [key], {});\n",
              "          if (!dataTable) return;\n",
              "\n",
              "          const docLinkHtml = 'Like what you see? Visit the ' +\n",
              "            '<a target=\"_blank\" href=https://colab.research.google.com/notebooks/data_table.ipynb>data table notebook</a>'\n",
              "            + ' to learn more about interactive tables.';\n",
              "          element.innerHTML = '';\n",
              "          dataTable['output_type'] = 'display_data';\n",
              "          await google.colab.output.renderOutput(dataTable, element);\n",
              "          const docLink = document.createElement('div');\n",
              "          docLink.innerHTML = docLinkHtml;\n",
              "          element.appendChild(docLink);\n",
              "        }\n",
              "      </script>\n",
              "    </div>\n",
              "  </div>\n",
              "  "
            ],
            "text/plain": [
              "   year  score    votes  star    budget      gross  company\n",
              "0  1980      8   927000   700  19000000   46998772     1432\n",
              "1  1980      5    65000   215   4500000   58853106      454\n",
              "2  1980      8  1200000  1161  18000000  538375067      949\n",
              "3  1980      7   221000  1478   3500000   83453539     1114\n",
              "4  1980      7   108000   272   6000000   39846344     1089"
            ]
          },
          "metadata": {},
          "execution_count": 73
        }
      ]
    },
    {
      "cell_type": "markdown",
      "source": [
        "Moving the Gross column to the last column to make it easier to split our data for multiple linear regression"
      ],
      "metadata": {
        "id": "FjGeLauK_H24"
      }
    },
    {
      "cell_type": "code",
      "source": [
        "last_col = df2.pop('gross')"
      ],
      "metadata": {
        "id": "SSgUMKP_-i2g"
      },
      "execution_count": 88,
      "outputs": []
    },
    {
      "cell_type": "code",
      "source": [
        "df2.insert(6, 'gross', last_col)"
      ],
      "metadata": {
        "id": "3tE5g_fx-su7"
      },
      "execution_count": 91,
      "outputs": []
    },
    {
      "cell_type": "code",
      "source": [
        "df2.head()"
      ],
      "metadata": {
        "colab": {
          "base_uri": "https://localhost:8080/",
          "height": 206
        },
        "id": "hUy3ogTq-8_G",
        "outputId": "f543819d-b97d-446c-cdd4-2f0bfd7d5b67"
      },
      "execution_count": 93,
      "outputs": [
        {
          "output_type": "execute_result",
          "data": {
            "text/html": [
              "\n",
              "  <div id=\"df-313b178b-3778-4d79-b1cc-80a76cb259a9\">\n",
              "    <div class=\"colab-df-container\">\n",
              "      <div>\n",
              "<style scoped>\n",
              "    .dataframe tbody tr th:only-of-type {\n",
              "        vertical-align: middle;\n",
              "    }\n",
              "\n",
              "    .dataframe tbody tr th {\n",
              "        vertical-align: top;\n",
              "    }\n",
              "\n",
              "    .dataframe thead th {\n",
              "        text-align: right;\n",
              "    }\n",
              "</style>\n",
              "<table border=\"1\" class=\"dataframe\">\n",
              "  <thead>\n",
              "    <tr style=\"text-align: right;\">\n",
              "      <th></th>\n",
              "      <th>year</th>\n",
              "      <th>score</th>\n",
              "      <th>votes</th>\n",
              "      <th>star</th>\n",
              "      <th>budget</th>\n",
              "      <th>company</th>\n",
              "      <th>gross</th>\n",
              "    </tr>\n",
              "  </thead>\n",
              "  <tbody>\n",
              "    <tr>\n",
              "      <th>0</th>\n",
              "      <td>1980</td>\n",
              "      <td>8</td>\n",
              "      <td>927000</td>\n",
              "      <td>700</td>\n",
              "      <td>19000000</td>\n",
              "      <td>1432</td>\n",
              "      <td>46998772</td>\n",
              "    </tr>\n",
              "    <tr>\n",
              "      <th>1</th>\n",
              "      <td>1980</td>\n",
              "      <td>5</td>\n",
              "      <td>65000</td>\n",
              "      <td>215</td>\n",
              "      <td>4500000</td>\n",
              "      <td>454</td>\n",
              "      <td>58853106</td>\n",
              "    </tr>\n",
              "    <tr>\n",
              "      <th>2</th>\n",
              "      <td>1980</td>\n",
              "      <td>8</td>\n",
              "      <td>1200000</td>\n",
              "      <td>1161</td>\n",
              "      <td>18000000</td>\n",
              "      <td>949</td>\n",
              "      <td>538375067</td>\n",
              "    </tr>\n",
              "    <tr>\n",
              "      <th>3</th>\n",
              "      <td>1980</td>\n",
              "      <td>7</td>\n",
              "      <td>221000</td>\n",
              "      <td>1478</td>\n",
              "      <td>3500000</td>\n",
              "      <td>1114</td>\n",
              "      <td>83453539</td>\n",
              "    </tr>\n",
              "    <tr>\n",
              "      <th>4</th>\n",
              "      <td>1980</td>\n",
              "      <td>7</td>\n",
              "      <td>108000</td>\n",
              "      <td>272</td>\n",
              "      <td>6000000</td>\n",
              "      <td>1089</td>\n",
              "      <td>39846344</td>\n",
              "    </tr>\n",
              "  </tbody>\n",
              "</table>\n",
              "</div>\n",
              "      <button class=\"colab-df-convert\" onclick=\"convertToInteractive('df-313b178b-3778-4d79-b1cc-80a76cb259a9')\"\n",
              "              title=\"Convert this dataframe to an interactive table.\"\n",
              "              style=\"display:none;\">\n",
              "        \n",
              "  <svg xmlns=\"http://www.w3.org/2000/svg\" height=\"24px\"viewBox=\"0 0 24 24\"\n",
              "       width=\"24px\">\n",
              "    <path d=\"M0 0h24v24H0V0z\" fill=\"none\"/>\n",
              "    <path d=\"M18.56 5.44l.94 2.06.94-2.06 2.06-.94-2.06-.94-.94-2.06-.94 2.06-2.06.94zm-11 1L8.5 8.5l.94-2.06 2.06-.94-2.06-.94L8.5 2.5l-.94 2.06-2.06.94zm10 10l.94 2.06.94-2.06 2.06-.94-2.06-.94-.94-2.06-.94 2.06-2.06.94z\"/><path d=\"M17.41 7.96l-1.37-1.37c-.4-.4-.92-.59-1.43-.59-.52 0-1.04.2-1.43.59L10.3 9.45l-7.72 7.72c-.78.78-.78 2.05 0 2.83L4 21.41c.39.39.9.59 1.41.59.51 0 1.02-.2 1.41-.59l7.78-7.78 2.81-2.81c.8-.78.8-2.07 0-2.86zM5.41 20L4 18.59l7.72-7.72 1.47 1.35L5.41 20z\"/>\n",
              "  </svg>\n",
              "      </button>\n",
              "      \n",
              "  <style>\n",
              "    .colab-df-container {\n",
              "      display:flex;\n",
              "      flex-wrap:wrap;\n",
              "      gap: 12px;\n",
              "    }\n",
              "\n",
              "    .colab-df-convert {\n",
              "      background-color: #E8F0FE;\n",
              "      border: none;\n",
              "      border-radius: 50%;\n",
              "      cursor: pointer;\n",
              "      display: none;\n",
              "      fill: #1967D2;\n",
              "      height: 32px;\n",
              "      padding: 0 0 0 0;\n",
              "      width: 32px;\n",
              "    }\n",
              "\n",
              "    .colab-df-convert:hover {\n",
              "      background-color: #E2EBFA;\n",
              "      box-shadow: 0px 1px 2px rgba(60, 64, 67, 0.3), 0px 1px 3px 1px rgba(60, 64, 67, 0.15);\n",
              "      fill: #174EA6;\n",
              "    }\n",
              "\n",
              "    [theme=dark] .colab-df-convert {\n",
              "      background-color: #3B4455;\n",
              "      fill: #D2E3FC;\n",
              "    }\n",
              "\n",
              "    [theme=dark] .colab-df-convert:hover {\n",
              "      background-color: #434B5C;\n",
              "      box-shadow: 0px 1px 3px 1px rgba(0, 0, 0, 0.15);\n",
              "      filter: drop-shadow(0px 1px 2px rgba(0, 0, 0, 0.3));\n",
              "      fill: #FFFFFF;\n",
              "    }\n",
              "  </style>\n",
              "\n",
              "      <script>\n",
              "        const buttonEl =\n",
              "          document.querySelector('#df-313b178b-3778-4d79-b1cc-80a76cb259a9 button.colab-df-convert');\n",
              "        buttonEl.style.display =\n",
              "          google.colab.kernel.accessAllowed ? 'block' : 'none';\n",
              "\n",
              "        async function convertToInteractive(key) {\n",
              "          const element = document.querySelector('#df-313b178b-3778-4d79-b1cc-80a76cb259a9');\n",
              "          const dataTable =\n",
              "            await google.colab.kernel.invokeFunction('convertToInteractive',\n",
              "                                                     [key], {});\n",
              "          if (!dataTable) return;\n",
              "\n",
              "          const docLinkHtml = 'Like what you see? Visit the ' +\n",
              "            '<a target=\"_blank\" href=https://colab.research.google.com/notebooks/data_table.ipynb>data table notebook</a>'\n",
              "            + ' to learn more about interactive tables.';\n",
              "          element.innerHTML = '';\n",
              "          dataTable['output_type'] = 'display_data';\n",
              "          await google.colab.output.renderOutput(dataTable, element);\n",
              "          const docLink = document.createElement('div');\n",
              "          docLink.innerHTML = docLinkHtml;\n",
              "          element.appendChild(docLink);\n",
              "        }\n",
              "      </script>\n",
              "    </div>\n",
              "  </div>\n",
              "  "
            ],
            "text/plain": [
              "   year  score    votes  star    budget  company      gross\n",
              "0  1980      8   927000   700  19000000     1432   46998772\n",
              "1  1980      5    65000   215   4500000      454   58853106\n",
              "2  1980      8  1200000  1161  18000000      949  538375067\n",
              "3  1980      7   221000  1478   3500000     1114   83453539\n",
              "4  1980      7   108000   272   6000000     1089   39846344"
            ]
          },
          "metadata": {},
          "execution_count": 93
        }
      ]
    },
    {
      "cell_type": "markdown",
      "source": [
        "Splitting the data into X and Y"
      ],
      "metadata": {
        "id": "TWsS-vs4_Xpw"
      }
    },
    {
      "cell_type": "code",
      "source": [
        "x = df2.iloc[:, :-1].values\n",
        "y = df2.iloc[:, -1].values"
      ],
      "metadata": {
        "id": "L4BTZ__S6Lx1"
      },
      "execution_count": 95,
      "outputs": []
    },
    {
      "cell_type": "code",
      "source": [
        "x.shape"
      ],
      "metadata": {
        "colab": {
          "base_uri": "https://localhost:8080/"
        },
        "id": "zVTmJMLU_WH3",
        "outputId": "eb36b72c-c81f-44b1-fbef-0a51c97c36dc"
      },
      "execution_count": 102,
      "outputs": [
        {
          "output_type": "execute_result",
          "data": {
            "text/plain": [
              "(5433, 6)"
            ]
          },
          "metadata": {},
          "execution_count": 102
        }
      ]
    },
    {
      "cell_type": "code",
      "source": [
        "y.shape"
      ],
      "metadata": {
        "colab": {
          "base_uri": "https://localhost:8080/"
        },
        "id": "g_fQH1Mg_zx4",
        "outputId": "b2ba531c-eb2c-481d-a7ae-eb45a973bdad"
      },
      "execution_count": 101,
      "outputs": [
        {
          "output_type": "execute_result",
          "data": {
            "text/plain": [
              "(5433,)"
            ]
          },
          "metadata": {},
          "execution_count": 101
        }
      ]
    },
    {
      "cell_type": "markdown",
      "source": [
        "Splitting the data into Training and Testing set"
      ],
      "metadata": {
        "id": "AWvEXknd_7rB"
      }
    },
    {
      "cell_type": "code",
      "source": [
        "from sklearn.model_selection import train_test_split\n",
        "x_train, x_test, y_train, y_test = train_test_split(x,y, test_size=0.2, random_state=0)"
      ],
      "metadata": {
        "id": "GJEs2VtQ_2Cr"
      },
      "execution_count": 98,
      "outputs": []
    },
    {
      "cell_type": "markdown",
      "source": [
        "Training the multiple linear Regression model on the Training set"
      ],
      "metadata": {
        "id": "qmi1bMG6BI5I"
      }
    },
    {
      "cell_type": "code",
      "source": [
        "from sklearn.linear_model import LinearRegression\n",
        "regressor = LinearRegression()\n",
        "regressor.fit(x_train, y_train)"
      ],
      "metadata": {
        "colab": {
          "base_uri": "https://localhost:8080/"
        },
        "id": "cple1A1PAb3O",
        "outputId": "3dbee5e3-586a-4ef1-b8f6-f1724cc21108"
      },
      "execution_count": 103,
      "outputs": [
        {
          "output_type": "execute_result",
          "data": {
            "text/plain": [
              "LinearRegression()"
            ]
          },
          "metadata": {},
          "execution_count": 103
        }
      ]
    },
    {
      "cell_type": "code",
      "source": [
        "y_pred = regressor.predict(x_test)\n",
        "np.set_printoptions(precision=2)\n",
        "print(np.concatenate((y_pred.reshape(len(y_pred),1), y_test.reshape(len(y_test),1)),1))"
      ],
      "metadata": {
        "colab": {
          "base_uri": "https://localhost:8080/"
        },
        "id": "2qtdadT1AkJ8",
        "outputId": "cd0782ad-c81e-4c11-d444-b69e0b45bf15"
      },
      "execution_count": 104,
      "outputs": [
        {
          "output_type": "stream",
          "name": "stdout",
          "text": [
            "[[58777924.   32917353.  ]\n",
            " [-4010298.03  4884663.  ]\n",
            " [16030617.12  2300684.  ]\n",
            " ...\n",
            " [30000290.25 52487045.  ]\n",
            " [28675255.38 22939027.  ]\n",
            " [-5001096.72  2847941.  ]]\n"
          ]
        }
      ]
    }
  ]
}